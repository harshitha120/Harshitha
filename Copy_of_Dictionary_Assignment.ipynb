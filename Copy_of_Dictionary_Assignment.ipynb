{
  "nbformat": 4,
  "nbformat_minor": 0,
  "metadata": {
    "colab": {
      "name": "Copy of Dictionary_Assignment.ipynb",
      "provenance": [],
      "collapsed_sections": []
    },
    "kernelspec": {
      "name": "python3",
      "display_name": "Python 3"
    }
  },
  "cells": [
    {
      "cell_type": "code",
      "metadata": {
        "id": "2k4ZB9yltJCa",
        "colab_type": "code",
        "colab": {
          "base_uri": "https://localhost:8080/",
          "height": 51
        },
        "outputId": "e0503e16-6138-402f-b39c-d9dec97a1c7b"
      },
      "source": [
        "# Initialize a dictionary \"emp_info\" with below details\n",
        "# In - emp_info['Tom']\n",
        "# Out - {'email':'tom_latham019@gmail.com', 'Phone': +1987654321, 'City': 'California'}\n",
        "\n",
        "# In - emp_info['Kathy']\n",
        "# Out - {'email':'kathy_abram897@gmail.com', 'Phone': +1887654321, 'City': 'New York'}\n",
        "\n",
        "emp_info['Tom']={'email':'tom_latham019@gmail.com', 'Phone': +1987654321, 'City': 'California'}\n",
        "emp_info['kathy']={'email':'kathy_abram897@gmail.com', 'Phone': +1887654321, 'City': 'New York'}\n",
        "print(emp_info['Tom'])\n",
        "print(emp_info['kathy'])"
      ],
      "execution_count": null,
      "outputs": [
        {
          "output_type": "stream",
          "text": [
            "{'email': 'tom_latham019@gmail.com', 'Phone': 1987654321, 'City': 'California'}\n",
            "{'email': 'kathy_abram897@gmail.com', 'Phone': 1887654321, 'City': 'New York'}\n"
          ],
          "name": "stdout"
        }
      ]
    },
    {
      "cell_type": "code",
      "metadata": {
        "id": "BAUj-S0fqFWG",
        "colab_type": "code",
        "colab": {
          "base_uri": "https://localhost:8080/",
          "height": 54
        },
        "outputId": "56a61e13-ea64-4a86-e51b-dd9543024822"
      },
      "source": [
        "# Create a dictionary out of below inputs\n",
        "# lst1 = ['emp1', 'emp2', 'emp3']\n",
        "# emp_key = ['e_name', 'e_id', 'e_sal']\n",
        "# emp1_val = ['John', 'SG101', '$10,000']\n",
        "# emp2_val = ['Smith', 'SG102', '$9,000']\n",
        "# emp3_val = ['Peter', 'SG103', '$9,500']\n",
        "\n",
        "# Expected Output:- {'emp1':{'e_name':'John', 'e_id':'SG101', 'e_sal':$10,000}, \n",
        "#                    'emp2':{'e_name':'Smith', 'e_id':'SG102', 'e_sal':$9,000}, \n",
        "#                    'emp3':{'e_name':'Peter', 'e_id':'SG103', 'e_sal':$9,500}}\n",
        "Defaults=['emp1','emp2','emp3']\n",
        "emp1={'e_name':'John','e_id':'SG101','e_sal':'$10,000'}\n",
        "emp2={'e_name':'Smith','e_id':'SG102','e_sal':'$9,000'}\n",
        "emp3={'e_name':'Peter','e_id':'SG103','e_sal':'$9,500'}\n",
        "D = dict.fromkeys(Defaults,(emp1,emp2,emp3))\n",
        "print(D)\n",
        "\n"
      ],
      "execution_count": 59,
      "outputs": [
        {
          "output_type": "stream",
          "text": [
            "{'emp1': ({'e_name': 'John', 'e_id': 'SG101', 'e_sal': '$10,000'}, {'e_name': 'Smith', 'e_id': 'SG102', 'e_sal': '$9,000'}, {'e_name': 'Peter', 'e_id': 'SG103', 'e_sal': '$9,500'}), 'emp2': ({'e_name': 'John', 'e_id': 'SG101', 'e_sal': '$10,000'}, {'e_name': 'Smith', 'e_id': 'SG102', 'e_sal': '$9,000'}, {'e_name': 'Peter', 'e_id': 'SG103', 'e_sal': '$9,500'}), 'emp3': ({'e_name': 'John', 'e_id': 'SG101', 'e_sal': '$10,000'}, {'e_name': 'Smith', 'e_id': 'SG102', 'e_sal': '$9,000'}, {'e_name': 'Peter', 'e_id': 'SG103', 'e_sal': '$9,500'})}\n"
          ],
          "name": "stdout"
        }
      ]
    },
    {
      "cell_type": "code",
      "metadata": {
        "id": "LxGZ3jbjrBkj",
        "colab_type": "code",
        "colab": {
          "base_uri": "https://localhost:8080/",
          "height": 34
        },
        "outputId": "c55f6fdf-2519-4601-f7ec-a9606d2633b3"
      },
      "source": [
        "# Acess the value of key 'history'\n",
        "\n",
        "sampleDict = { \n",
        "   \"class\":{ \n",
        "      \"student\":{ \n",
        "         \"name\":\"Mike\",\n",
        "         \"marks\":{ \n",
        "            \"physics\":70,\n",
        "            \"history\":80\n",
        "         }\n",
        "      }\n",
        "   }\n",
        "}\n",
        "\n",
        "print(sampleDict['class']['student']['marks']['history'])\n"
      ],
      "execution_count": 49,
      "outputs": [
        {
          "output_type": "stream",
          "text": [
            "80\n"
          ],
          "name": "stdout"
        }
      ]
    },
    {
      "cell_type": "code",
      "metadata": {
        "id": "Vm8UZbyNrKID",
        "colab_type": "code",
        "colab": {
          "base_uri": "https://localhost:8080/",
          "height": 54
        },
        "outputId": "4634b8f1-a164-43ba-f6e9-8eef3c8a6c6c"
      },
      "source": [
        "# Initialize dictionary with default values. Inputs are:-\n",
        "# employees = ['Kelly', 'Emma', 'John']\n",
        "# defaults = {\"designation\": 'Application Developer', \"salary\": 8000}\n",
        "\n",
        "#Expected output:- {'Kelly': {'designation': 'Application Developer', 'salary': 8000}, \n",
        "#                   'Emma': {'designation': 'Application Developer', 'salary': 8000}, \n",
        "#                   'John': {'designation': 'Application Developer', 'salary': 8000}}\n",
        "\n",
        "\n",
        "employess = ['Kelly', 'Emma', 'John']\n",
        "Defaults = {\"designation\": 'Application Developer', \"salary\": 8000}\n",
        "\n",
        "D = dict.fromkeys(employess, Defaults)\n",
        "print(D)\n",
        "\n",
        "\n"
      ],
      "execution_count": 45,
      "outputs": [
        {
          "output_type": "stream",
          "text": [
            "{'Kelly': {'designation': 'Application Developer', 'salary': 8000}, 'Emma': {'designation': 'Application Developer', 'salary': 8000}, 'John': {'designation': 'Application Developer', 'salary': 8000}}\n"
          ],
          "name": "stdout"
        }
      ]
    },
    {
      "cell_type": "code",
      "metadata": {
        "id": "nmFdbaHBrThC",
        "colab_type": "code",
        "colab": {
          "base_uri": "https://localhost:8080/",
          "height": 34
        },
        "outputId": "56401263-506e-4dbd-fb9e-015c89f43d62"
      },
      "source": [
        "# In gene expression, mRNA is transcribed from a DNA template. \n",
        "# The 4 nucleotide bases of A, T, C, G corresponds to the U, A, G, C bases of the mRNA. \n",
        "# Write a function that returns the mRNA transcript given the sequence of a DNA strand.\n",
        "\n",
        "# Use a dictionary to provide the mapping of DNA to RNA bases.\n",
        "mRNA=list('UAGC')\n",
        "DNA=list('ATCG')\n",
        "d=dict(zip(DNA,mRNA))\n",
        "print(d)\n"
      ],
      "execution_count": 17,
      "outputs": [
        {
          "output_type": "stream",
          "text": [
            "{'A': 'U', 'T': 'A', 'C': 'G', 'G': 'C'}\n"
          ],
          "name": "stdout"
        }
      ]
    },
    {
      "cell_type": "code",
      "metadata": {
        "id": "rop1A1pQw6Uk",
        "colab_type": "code",
        "colab": {
          "base_uri": "https://localhost:8080/",
          "height": 51
        },
        "outputId": "12d990dd-6f2a-4e92-89ae-c79aa1d1829b"
      },
      "source": [
        "# Write a function which takes a word as input and returns a dictionary with letters as key and no of time letters are repeated as value.\n",
        "# In - count_letter('google.com')\n",
        "# Out - {'g': 2, 'o': 3, 'l': 1, 'e': 1, '.': 1, 'c': 1, 'm': 1}\n",
        "test_str = 'google.com'\n",
        "res = {i : test_str.count(i) for i in set(test_str)}  \n",
        "print (\"The count of all characters in GeeksforGeeks is :\\n \"\n",
        "                                               +  str(res)) "
      ],
      "execution_count": 4,
      "outputs": [
        {
          "output_type": "stream",
          "text": [
            "The count of all characters in GeeksforGeeks is :\n",
            " {'c': 1, 'o': 3, 'e': 1, 'l': 1, 'm': 1, '.': 1, 'g': 2}\n"
          ],
          "name": "stdout"
        }
      ]
    },
    {
      "cell_type": "code",
      "metadata": {
        "id": "vAwGIoxdw856",
        "colab_type": "code",
        "colab": {
          "base_uri": "https://localhost:8080/",
          "height": 85
        },
        "outputId": "59d7f8c5-2319-481b-8db8-bf84de51b752"
      },
      "source": [
        "# A DNA strand consisting of the 4 nucleotide bases is usually represented with a string of letters: A,T, C, G. \n",
        "# Write a function that computes the base composition of a given DNA sequence.\n",
        "\n",
        "# In - baseComposition(\"CTATCGGCACCCTTTCAGCA\")\n",
        "# Out - {'A': 4, 'C': 8, 'T': 5,  'G': 3 }\n",
        "test_str = 'CTATCGGCACCCTTTCAGCA'\n",
        "res = {i : test_str.count(i) for i in set(test_str)}  \n",
        "print (\"The count of all characters in GeeksforGeeks is :\\n \"\n",
        "                                               +  str(res)) \n",
        "    \n",
        "    \n",
        "# In - baseComposition(\"AGT\")\n",
        "# Out - {'A': 1, 'C': 0, 'T': 1,  'G': 1 }\n",
        "test_str = \"AGT\"\n",
        "res = {i : test_str.count(i) for i in set(test_str)}  \n",
        "print (\"The count of all characters in GeeksforGeeks is :\\n \"\n",
        "                                               +  str(res)) "
      ],
      "execution_count": 11,
      "outputs": [
        {
          "output_type": "stream",
          "text": [
            "The count of all characters in GeeksforGeeks is :\n",
            " {'A': 4, 'G': 3, 'C': 8, 'T': 5}\n",
            "The count of all characters in GeeksforGeeks is :\n",
            " {'A': 1, 'G': 1, 'T': 1}\n"
          ],
          "name": "stdout"
        }
      ]
    },
    {
      "cell_type": "code",
      "metadata": {
        "id": "iVNnSsvaxMDo",
        "colab_type": "code",
        "colab": {}
      },
      "source": [
        "# [MCQ] Suppose \"d\" is an empty dictionary, which statement does not assign \"d\" with {\"Name\":\"Tom\"}? \n",
        "# 1. d = {\"Name\": \"Tom\" }\n",
        "# 2. d[\"Name\"] = \"Tom\"\n",
        "# 3. d.update({\"Name\": \"Tom\" })\n",
        "# 4. d.setdefault(\"Name\", \"Tom\")\n",
        "# 5. None of the above.--->this one..everything assigns d with {\"Name\":\"Tom\"}"
      ],
      "execution_count": null,
      "outputs": []
    },
    {
      "cell_type": "code",
      "metadata": {
        "id": "tOgsXi2axnhF",
        "colab_type": "code",
        "colab": {}
      },
      "source": [
        "# [MCQ] d = {\"a\":1, \"b\":2}. Which of the statements returns [1,2]? \n",
        "# 1. d.keys()\n",
        "# 2. d.values()---this will return [1,2]\n",
        "# 3. d.items()\n",
        "# 4. d.popitem()\n",
        "# 5. None of the above."
      ],
      "execution_count": null,
      "outputs": []
    },
    {
      "cell_type": "code",
      "metadata": {
        "id": "BeNNopkDzK0k",
        "colab_type": "code",
        "colab": {}
      },
      "source": [
        "# [MCQ] Which of the following declarations is not valid for 'dict' type?\n",
        "# 1. d = {\"Name\": \"Tom\" }\n",
        "# 2. d = { (1,3,4): 4.5 }\n",
        "# 3. d = { [\"First\", \"Last\"]: (1,3) } --->this is not a valid dict type\n",
        "# 4. d = { 1: 0.4 }\n",
        "# 5. None of the above"
      ],
      "execution_count": null,
      "outputs": []
    },
    {
      "cell_type": "code",
      "metadata": {
        "id": "7kPbKcfMzTHP",
        "colab_type": "code",
        "colab": {
          "base_uri": "https://localhost:8080/",
          "height": 68
        },
        "outputId": "2f5d1ae9-164d-4399-d67b-61ed8e89c922"
      },
      "source": [
        "# Write a function reverseLookup(dictionary, value) that takes in a dictionary \n",
        "# and a value as arguments and returns a sorted list of all keys that contains the value. \n",
        "# The function will return an empty list if no match is found.\n",
        "\n",
        "# In - reverseLookup({'a':1, 'b':2, 'c':2}, 1)\n",
        "# Out - ['a']\n",
        "# In - reverseLookup({'a':1, 'b':2, 'c':2}, 2)\n",
        "# Out - ['b', 'c']\n",
        "# In - reverseLookup({'a':1, 'b':2, 'c':2}, 3)\n",
        "# Out - []\n",
        "def reverseLookup(dictionary,value):\n",
        "  lst=[]\n",
        "  for i in dictionary:\n",
        "    if dictionary[i]==value:\n",
        "      lst.append(i)\n",
        "  return lst\n",
        "\n",
        "print(reverseLookup({'a':1, 'b':2, 'c':2}, 1))   \n",
        "\n",
        "def reverseLookup(dictionary,value):\n",
        "  lst=[]\n",
        "  for i in dictionary:\n",
        "    if dictionary[i]==value:\n",
        "      lst.append(i)\n",
        "  return lst \n",
        "print(reverseLookup({'a':1, 'b':2, 'c':2}, 2))   \n",
        "\n",
        "def reverseLookup(dictionary,value):\n",
        "  lst=[]\n",
        "  for i in dictionary:\n",
        "    if dictionary[i]==value: \n",
        "      lst.append(i)\n",
        "  return lst  \n",
        "print(reverseLookup({'a':1, 'b':2, 'c':2}, 3) ) \n",
        "\n"
      ],
      "execution_count": 7,
      "outputs": [
        {
          "output_type": "stream",
          "text": [
            "['a']\n",
            "['b', 'c']\n",
            "[]\n"
          ],
          "name": "stdout"
        }
      ]
    },
    {
      "cell_type": "code",
      "metadata": {
        "id": "s87Rvg2HDFYp",
        "colab_type": "code",
        "colab": {
          "base_uri": "https://localhost:8080/",
          "height": 51
        },
        "outputId": "c22c2ffa-1ed0-4717-dab1-dfbbd92a4ba6"
      },
      "source": [
        "# Write a function invertDictionary(d) that takes in a dictionary as argument and return a dictionary that inverts the keys and the values of the original dictionary.\n",
        "# In - invertDictionary({'a':1, 'b':2, 'c':3, 'd':2})\n",
        "# Out - {1: ['a'], 2: ['b', 'd'], 3: ['c']}\n",
        "# In - invertDictionary({'a':3, 'b':3, 'c':3})\n",
        "# Out - {3: ['a', 'c', 'b']}\n",
        "# In - invertDictionary({'a':2, 'b':1, 'c':2, 'd':1})\n",
        "# Out - {1: ['b', 'd'], 2: ['a', 'c']}\n",
        "a={'a':1, 'b':2, 'c':3, 'd':2}\n",
        "print(\"The initial dictionary is:\",a)\n",
        "inv_dict = {v: k for k, v in a.items()} \n",
        "print(inv_dict)\n",
        "\n"
      ],
      "execution_count": 34,
      "outputs": [
        {
          "output_type": "stream",
          "text": [
            "The initial dictionary is: {'a': 1, 'b': 2, 'c': 3, 'd': 2}\n",
            "{1: 'a', 2: 'd', 3: 'c'}\n"
          ],
          "name": "stdout"
        }
      ]
    },
    {
      "cell_type": "code",
      "metadata": {
        "id": "DgYyaZU6Oz7E",
        "colab_type": "code",
        "colab": {
          "base_uri": "https://localhost:8080/",
          "height": 34
        },
        "outputId": "4a898aa4-c47a-4688-a26f-d1003f002c06"
      },
      "source": [
        "# Write a function that converts a sparse vector into a dictionary as described above.\n",
        "# In - convertVector([1, 0, 0, 2, 0, 0, 0, 3, 0, 0, 0, 0, 4])\n",
        "# Out - {0: 1, 3: 2, 7: 3, 12: 4}\n",
        "# In - convertVector([1, 0, 1 , 0, 2, 0, 1, 0, 0, 1, 0])\n",
        "# Out - {0: 1, 2: 1, 4: 2, 6: 1, 9: 1}\n",
        "# In - convertVector([0, 0, 0, 0, 0])\n",
        "# Out - {}\n",
        "def convertvector(lst):\n",
        "  d={}\n",
        "  i=0\n",
        "  for x in lst:\n",
        "    if x!=0:\n",
        "        d[i]=x\n",
        "    i=i+1\n",
        "  return d\n",
        "print(convertvector([1, 0, 0, 2, 0, 0, 0, 3, 0, 0, 0, 0, 4]))\n",
        "\n",
        "\n"
      ],
      "execution_count": 16,
      "outputs": [
        {
          "output_type": "stream",
          "text": [
            "{0: 1, 3: 2, 7: 3, 12: 4}\n"
          ],
          "name": "stdout"
        }
      ]
    },
    {
      "cell_type": "code",
      "metadata": {
        "id": "ETCmEcflTGCI",
        "colab_type": "code",
        "colab": {
          "base_uri": "https://localhost:8080/",
          "height": 68
        },
        "outputId": "cea4917a-2f9f-48fb-e258-b44ee782225d"
      },
      "source": [
        "# Write a function that converts a dictionary back to its sparse vector representation.\n",
        "# In - convertDictionary({0: 1, 3: 2, 7: 3, 12: 4})\n",
        "# Out - [1, 0, 0, 2, 0, 0, 0, 3, 0, 0, 0, 0, 4]\n",
        "# In - convertDictionary({0: 1, 2: 1, 4: 2, 6: 1, 9: 1})\n",
        "# Out - [1, 0, 1, 0, 2, 0, 1, 0, 0, 1]\n",
        "# In - convertDictionary({})\n",
        "# Out - []\n",
        "def convertDictionary(my_dict):\n",
        " maximum = max(list(my_dict.keys()))\n",
        " my_list = [0]*(maximum+1)\n",
        " for i in my_dict:\n",
        "    my_list[i] = my_dict[i]\n",
        " print(my_list)\n",
        "\n",
        "my_dict={0: 1, 3: 2, 7: 3, 12: 4}\n",
        "convertDictionary(my_dict) \n",
        "\n",
        "def convertDictionary(my_dict):\n",
        " maximum = max(list(my_dict.keys()))\n",
        " my_list = [0]*(maximum+1)\n",
        " for i in my_dict:\n",
        "    my_list[i] = my_dict[i]\n",
        " print(my_list)\n",
        "\n",
        "my_dict={0: 1, 2: 1, 4: 2, 6: 1, 9: 1}\n",
        "convertDictionary(my_dict) \n",
        "\n",
        "my_dict={0: 1, 3: 2, 7: 3, 12: 4}\n",
        "convertDictionary(my_dict) \n",
        "\n",
        "\n",
        " \n"
      ],
      "execution_count": 29,
      "outputs": [
        {
          "output_type": "stream",
          "text": [
            "[1, 0, 0, 2, 0, 0, 0, 3, 0, 0, 0, 0, 4]\n",
            "[1, 0, 1, 0, 2, 0, 1, 0, 0, 1]\n",
            "[1, 0, 0, 2, 0, 0, 0, 3, 0, 0, 0, 0, 4]\n"
          ],
          "name": "stdout"
        }
      ]
    },
    {
      "cell_type": "code",
      "metadata": {
        "id": "tTANm2QKZXh3",
        "colab_type": "code",
        "colab": {
          "base_uri": "https://localhost:8080/",
          "height": 34
        },
        "outputId": "f06216a8-1021-4ced-e00a-29b97e6fddab"
      },
      "source": [
        "# Given a Python dictionary, Change Brad’s salary to 8500\n",
        "# sampleDict = {\n",
        "#      'emp1': {'name': 'Jhon', 'salary': 7500},\n",
        "#      'emp2': {'name': 'Emma', 'salary': 8000},\n",
        "#      'emp3': {'name': 'Brad', 'salary': 6500}\n",
        "# }\n",
        "\n",
        "# Expected Output\n",
        "# sampleDict = {\n",
        "#      'emp1': {'name': 'Jhon', 'salary': 7500},\n",
        "#      'emp2': {'name': 'Emma', 'salary': 8000},\n",
        "#      'emp3': {'name': 'Brad', 'salary': 8500}\n",
        "# }\n",
        "sampleDict = {\n",
        "     'emp1': {'name': 'Jhon', 'salary': 7500},\n",
        "     'emp2': {'name': 'Emma', 'salary': 8000},\n",
        "     'emp3': {'name': 'Brad', 'salary': 6500}\n",
        " }\n",
        "sampleDict['emp3']['salary']=8500\n",
        "print(sampleDict)\n"
      ],
      "execution_count": null,
      "outputs": [
        {
          "output_type": "stream",
          "text": [
            "{'emp1': {'name': 'Jhon', 'salary': 7500}, 'emp2': {'name': 'Emma', 'salary': 8000}, 'emp3': {'name': 'Brad', 'salary': 8500}}\n"
          ],
          "name": "stdout"
        }
      ]
    },
    {
      "cell_type": "code",
      "metadata": {
        "id": "8dUHXiCVZmUx",
        "colab_type": "code",
        "colab": {
          "base_uri": "https://localhost:8080/",
          "height": 34
        },
        "outputId": "268fddf3-aab2-4efe-d240-063a28a9b3d0"
      },
      "source": [
        "# Get the key corresponding to the minimum value from the following dictionary\n",
        "# sampleDict = {\n",
        "#   'Physics': 82,\n",
        "#   'Math': 65,\n",
        "#   'history': 75\n",
        "# }\n",
        "\n",
        "# Expected Output\n",
        "# Math\n",
        "\n",
        "sampleDict = {\n",
        " 'Physics': 82,  'Math': 65,  'history': 75 }\n",
        "temp=min(sampleDict.values())\n",
        "[key  for (key, value) in sampleDict.items() if value == temp]\n"
      ],
      "execution_count": null,
      "outputs": [
        {
          "output_type": "execute_result",
          "data": {
            "text/plain": [
              "['Math']"
            ]
          },
          "metadata": {
            "tags": []
          },
          "execution_count": 53
        }
      ]
    },
    {
      "cell_type": "code",
      "metadata": {
        "id": "AQe5QNGdZ7aJ",
        "colab_type": "code",
        "colab": {
          "base_uri": "https://localhost:8080/",
          "height": 34
        },
        "outputId": "9828a8f5-22ad-44cf-8466-c52a2ef1d41f"
      },
      "source": [
        "# Rename key city to location in the following dictionary\n",
        "# sampleDict = {\n",
        "#   \"name\": \"Kelly\",\n",
        "#   \"age\":25,\n",
        "#   \"salary\": 8000,\n",
        "#   \"city\": \"New york\"\n",
        "# }\n",
        "\n",
        "# Expected Output\n",
        "# {\n",
        "#   \"name\": \"Kelly\",\n",
        "#   \"age\":25,\n",
        "#   \"salary\": 8000,\n",
        "#   \"location\": \"New york\"\n",
        "# }\n",
        "sampleDict = {\n",
        "  \"name\": \"Kelly\",\n",
        "  \"age\":25,\n",
        " \"salary\": 8000,\n",
        "  \"city\": \"New york\"\n",
        "}\n",
        "sampleDict[\"location\"]=sampleDict.pop(\"city\")\n",
        "print(sampleDict)"
      ],
      "execution_count": null,
      "outputs": [
        {
          "output_type": "stream",
          "text": [
            "{'name': 'Kelly', 'age': 25, 'salary': 8000, 'location': 'New york'}\n"
          ],
          "name": "stdout"
        }
      ]
    },
    {
      "cell_type": "code",
      "metadata": {
        "id": "e19_ddO9aNNw",
        "colab_type": "code",
        "colab": {
          "base_uri": "https://localhost:8080/",
          "height": 34
        },
        "outputId": "7efab269-1a24-44d2-974c-3cbe9aa91bb2"
      },
      "source": [
        "# Check if a value 200 exists in a dictionary\n",
        "# sampleDict = {'a': 100, 'b': 200, 'c': 300}\n",
        "\n",
        "\n",
        "sampleDict = {'a': 100, 'b': 200, 'c': 300}\n",
        "200 in sampleDict.values()"
      ],
      "execution_count": null,
      "outputs": [
        {
          "output_type": "execute_result",
          "data": {
            "text/plain": [
              "True"
            ]
          },
          "metadata": {
            "tags": []
          },
          "execution_count": 42
        }
      ]
    },
    {
      "cell_type": "code",
      "metadata": {
        "id": "yphwjc1gabMa",
        "colab_type": "code",
        "colab": {
          "base_uri": "https://localhost:8080/",
          "height": 34
        },
        "outputId": "1cc74543-fafd-4498-bd91-089bafb08e1e"
      },
      "source": [
        "# Delete set of keys from Python Dictionary\n",
        "# sampleDict = {\n",
        "#   \"name\": \"Kelly\",\n",
        "#   \"age\":25,\n",
        "#   \"salary\": 8000,\n",
        "#   \"city\": \"New york\"\n",
        "  \n",
        "# }\n",
        "# keysToRemove = [\"name\", \"c\"]\n",
        "\n",
        "# Expected Output:\n",
        "# {'city': 'New york', 'age': 25}\n",
        "sampleDict = {\n",
        "  \"name\": \"Kelly\",\n",
        "  \"age\":'25',\n",
        "  \"salary\": '8000',\n",
        "  \"city\": \"New york\"}\n",
        "sampleDict.pop(\"name\")\n",
        "sampleDict.pop(\"salary\")\n",
        "print(sampleDict)\n"
      ],
      "execution_count": null,
      "outputs": [
        {
          "output_type": "stream",
          "text": [
            "{'age': '25', 'city': 'New york'}\n"
          ],
          "name": "stdout"
        }
      ]
    }
  ]
}