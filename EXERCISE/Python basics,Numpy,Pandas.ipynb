{
 "cells": [
  {
   "cell_type": "markdown",
   "metadata": {},
   "source": [
    "# python basics\n"
   ]
  },
  {
   "cell_type": "markdown",
   "metadata": {},
   "source": [
    "## data types and variables"
   ]
  },
  {
   "cell_type": "code",
   "execution_count": 1,
   "metadata": {},
   "outputs": [],
   "source": [
    "#print statement\n",
    "a='harshitha'\n",
    "b='reddy'\n",
    "print(\"first name is {} and last name is {}\".format(a,b))\n",
    "#second type of print and format statement:\n",
    "print(\"first name is {first} and last name is {last}\".format(first=a,last=b))"
   ]
  },
  {
   "cell_type": "code",
   "execution_count": 2,
   "metadata": {},
   "outputs": [
    {
     "data": {
      "text/plain": [
       "str"
      ]
     },
     "execution_count": 2,
     "metadata": {},
     "output_type": "execute_result"
    }
   ],
   "source": [
    "len('krish') #--->length of string\n",
    "type(a) #--->to display the datatype of a"
   ]
  },
  {
   "cell_type": "code",
   "execution_count": 1,
   "metadata": {},
   "outputs": [],
   "source": [
    "#boolen variables:\n",
    "#two constant objects either true or false\n",
    "#we can create a boolean variable we can use bool"
   ]
  },
  {
   "cell_type": "code",
   "execution_count": null,
   "metadata": {},
   "outputs": [],
   "source": [
    "print(type(True))"
   ]
  },
  {
   "cell_type": "code",
   "execution_count": null,
   "metadata": {},
   "outputs": [],
   "source": [
    "mystr='harshitha'\n",
    "print(mystr.isalnum())\n",
    "print(mystr.capitalize())\n",
    "print(mystr.isascii())\n",
    "print(mystr.casefold())\n",
    "print(mystr.find('t'))\n",
    "print(mystr.istitle())"
   ]
  },
  {
   "cell_type": "code",
   "execution_count": null,
   "metadata": {},
   "outputs": [],
   "source": [
    "#logfical operations with bool functions:\n",
    "a=True and True\n",
    "b=True and False\n",
    "a or b\n",
    "a=\"harshitha\"\n",
    "a1=a.islower()\n",
    "a1\n",
    "b1=a.isupper()\n",
    "b1\n",
    "c1= a1 and b1\n",
    "print(c1)"
   ]
  },
  {
   "cell_type": "code",
   "execution_count": null,
   "metadata": {},
   "outputs": [],
   "source": [
    "#lists\n",
    "list1=['mango','apple',1,2,3,400,500,700.90]\n",
    "\n",
    "type(list1)\n",
    "len(list1)\n",
    "#append to add things\n",
    "list2=[560,900,'tomato']\n",
    "\n",
    "list1.append(list2)\n",
    "list1"
   ]
  },
  {
   "cell_type": "code",
   "execution_count": null,
   "metadata": {},
   "outputs": [],
   "source": [
    "#indexing in list:\n",
    "list1=['mango','apple',1,2,3,400,500,700.90]\n",
    "print(list1[2])\n",
    "print(list1[0])\n",
    "print(list1[0:5])\n",
    "print(list1[0:8:2])\n",
    "list1"
   ]
  },
  {
   "cell_type": "code",
   "execution_count": null,
   "metadata": {},
   "outputs": [],
   "source": [
    "#insert\n",
    "list2=list1[::]\n",
    "list2\n",
    "list2.insert(2,'amazing')\n",
    "list2\n"
   ]
  },
  {
   "cell_type": "code",
   "execution_count": null,
   "metadata": {},
   "outputs": [],
   "source": [
    "#extend method\n",
    "list2.extend([1,2])\n",
    "list2"
   ]
  },
  {
   "cell_type": "code",
   "execution_count": null,
   "metadata": {},
   "outputs": [],
   "source": [
    "#various operations taht can be performed on list are:\n",
    "list3=[1,2,3,4]\n",
    "sum(list3)\n",
    "list3.pop() #it deleted the last element in the list\n",
    "list3\n",
    "list3.pop(2)\n",
    "list3\n",
    "list4=[1,2,5,6,7,2]\n",
    "list4.count(2)\n",
    "print(list4.index(6))\n",
    "print(max(list4))\n",
    "print(min(list4))\n",
    "list4*2 #it will duplicate list4 twice "
   ]
  },
  {
   "cell_type": "markdown",
   "metadata": {},
   "source": [
    "# sets"
   ]
  },
  {
   "cell_type": "code",
   "execution_count": null,
   "metadata": {},
   "outputs": [],
   "source": [
    "#creating the set\n",
    "set1={1,2,3,4}\n",
    "print(set1)\n",
    "print(type(set1))\n",
    "set2={\"Ironman\",\"antman\",\"aquaman\",\"batman\",1,2}\n",
    "set2"
   ]
  },
  {
   "cell_type": "code",
   "execution_count": null,
   "metadata": {},
   "outputs": [],
   "source": [
    "set1.add(8)\n",
    "set1\n",
    "set1.difference(set2)\n",
    "set2.intersection_update(set1)\n",
    "set2\n",
    "#here in set we can access elements via index\n",
    "#set2[2]"
   ]
  },
  {
   "cell_type": "markdown",
   "metadata": {},
   "source": [
    "# Dictionaries"
   ]
  },
  {
   "cell_type": "code",
   "execution_count": null,
   "metadata": {},
   "outputs": [],
   "source": [
    "dict1={1:'apple',2:'Mango',3:'berries',4:'raspberry',5:'strawberry'}\n",
    "print(dict1)\n",
    "print(type(dict1))\n"
   ]
  },
  {
   "cell_type": "code",
   "execution_count": null,
   "metadata": {},
   "outputs": [],
   "source": [
    "\n",
    "dict2={}\n",
    "dict3={}\n",
    "seq2=('happy','sad','emotional','circus','lambda')\n",
    "dict3=dict2.fromkeys(seq2,10)\n",
    "print(dict3.get('sad'))\n",
    "print(dict3.copy())\n",
    "dict3.pop('sad')\n",
    "dict1[3]\n",
    "    \n",
    "#we can use loop to retrive all elements of list\n",
    "for x in dict1.items():\n",
    "    print(x)\n",
    "    \n",
    "#to add key-value pair to dict1\n",
    "dict1[6]=\"Cherry\"\n",
    "print(dict1)"
   ]
  },
  {
   "cell_type": "code",
   "execution_count": null,
   "metadata": {},
   "outputs": [],
   "source": [
    "#nested dictionary:\n",
    "class1={'ramya':34}\n",
    "class2={'suma':67}\n",
    "class3={'navya':68}\n",
    "class4={'A': class1,'B': class2,'C': class3}\n",
    "print(class4)\n",
    "#indexing to retrieve the value in nested loop:\n",
    "class4['A']['ramya']"
   ]
  },
  {
   "cell_type": "markdown",
   "metadata": {},
   "source": [
    "# Tuples-non mutable\n"
   ]
  },
  {
   "cell_type": "code",
   "execution_count": null,
   "metadata": {},
   "outputs": [],
   "source": [
    "a=(\"chotu\",\"motu\",\"sana\",\"chotu\")\n",
    "a\n",
    "#a[\"chotu\"]=\"hars\" --->assignment operation is not possible in tuples\n",
    "a.count(\"chotu\")\n",
    "a.index(\"sana\")"
   ]
  },
  {
   "cell_type": "markdown",
   "metadata": {},
   "source": [
    "# Numpy"
   ]
  },
  {
   "cell_type": "code",
   "execution_count": 4,
   "metadata": {},
   "outputs": [
    {
     "name": "stdout",
     "output_type": "stream",
     "text": [
      "[1 2 3 4 5 6]\n",
      "<class 'numpy.ndarray'>\n",
      "(6,)\n",
      "6\n",
      "[[1 2 3]\n",
      " [4 5 6]]\n",
      "[[1 2 3]\n",
      " [4 5 6]]\n"
     ]
    },
    {
     "data": {
      "text/plain": [
       "3"
      ]
     },
     "execution_count": 4,
     "metadata": {},
     "output_type": "execute_result"
    }
   ],
   "source": [
    "#importing the library of numpy as\n",
    "import numpy as np\n",
    "list1=[1,2,3,4,5,6]\n",
    "b=np.array(list1)\n",
    "print(b)\n",
    "print(type(b))\n",
    "print(b.shape)\n",
    "print(b.size)\n",
    "print(b.reshape(2,3))\n",
    "c=[[1,2,3],[4,5,6]]\n",
    "c1=np.array(c)\n",
    "c1.shape\n",
    "print(c1)\n",
    "c1[0][2]\n"
   ]
  },
  {
   "cell_type": "code",
   "execution_count": 5,
   "metadata": {},
   "outputs": [
    {
     "name": "stdout",
     "output_type": "stream",
     "text": [
      "[[ 1  2  3  4]\n",
      " [ 5  6  7  8]\n",
      " [11 23 45 67]]\n",
      "23\n",
      "[6 7 8]\n",
      "\n",
      "[[ 2  3]\n",
      " [ 6  7]\n",
      " [23 45]]\n",
      "\n",
      "[ 3  7 45]\n"
     ]
    }
   ],
   "source": [
    "#indexing the array\n",
    "d=[[1,2,3,4],[5,6,7,8],[11,23,45,67]]\n",
    "d1=np.array(d)\n",
    "print(d1)\n",
    "#if i want to access the elment 23\n",
    "print(d1[2][1])\n",
    "#if i wnat to access the elemnts 6,7 and 8\n",
    "print(d1[1][1:])\n",
    "#i can access the rows and coumns also seprately as shown below:\n",
    "print()\n",
    "d2=d1[0:3,1:3]\n",
    "print(d2)\n",
    "print()\n",
    "print(d2[0:3,1])"
   ]
  },
  {
   "cell_type": "code",
   "execution_count": 6,
   "metadata": {},
   "outputs": [
    {
     "data": {
      "text/plain": [
       "array([2, 4, 6, 8])"
      ]
     },
     "execution_count": 6,
     "metadata": {},
     "output_type": "execute_result"
    }
   ],
   "source": [
    "#inbuilt functions in numpy:arange\n",
    "arr1=np.arange(2,10,2)\n",
    "arr1"
   ]
  },
  {
   "cell_type": "code",
   "execution_count": 7,
   "metadata": {},
   "outputs": [
    {
     "data": {
      "text/plain": [
       "array([ 20,  30,  40,  50,  60,  70,  80,  90, 100])"
      ]
     },
     "execution_count": 7,
     "metadata": {},
     "output_type": "execute_result"
    }
   ],
   "source": [
    "arr2=np.arange(20,110,10)\n",
    "arr2"
   ]
  },
  {
   "cell_type": "code",
   "execution_count": 8,
   "metadata": {},
   "outputs": [
    {
     "name": "stdout",
     "output_type": "stream",
     "text": [
      "[  2.+0.j  14.+0.j  26.+0.j  38.+0.j  50.+0.j  62.+0.j  74.+0.j  86.+0.j\n",
      "  98.+0.j 110.+0.j]\n"
     ]
    }
   ],
   "source": [
    "#inbuilt function:linspace\n",
    "arr3=np.linspace(2,110,10,dtype=complex)\n",
    "print(arr3)\n",
    "#here n=10 represents how many equally space elements between the given start and stop and theya re equally space points."
   ]
  },
  {
   "cell_type": "code",
   "execution_count": 9,
   "metadata": {},
   "outputs": [
    {
     "name": "stdout",
     "output_type": "stream",
     "text": [
      "[30 35 40 90 90 90 90 90 90 90]\n",
      "[30 35 40 45 50 55 60 65 70 75]\n"
     ]
    }
   ],
   "source": [
    "#copy function:\n",
    "arr4=np.arange(30,80,5)\n",
    "arr4\n",
    "#copy function or broadcasting:\n",
    "#arr5=arr4[::] #here array slicing wont create a  shallow copy of array..chnages made to shallow copy will affect the original arrray as well.\n",
    "#so,we can use copy function inorder to create a shallow copy of a array\n",
    "arr5=arr4.copy()#copy method creates a shallow copy:\n",
    "arr5[3:]=90\n",
    "print(arr5)\n",
    "print(arr4)\n",
    "\n"
   ]
  },
  {
   "cell_type": "code",
   "execution_count": 10,
   "metadata": {},
   "outputs": [
    {
     "data": {
      "text/plain": [
       "array([55, 60, 65, 70, 75])"
      ]
     },
     "execution_count": 10,
     "metadata": {},
     "output_type": "execute_result"
    }
   ],
   "source": [
    "arr4[arr4 >50]\n"
   ]
  },
  {
   "cell_type": "code",
   "execution_count": 11,
   "metadata": {},
   "outputs": [
    {
     "data": {
      "text/plain": [
       "array([[1, 1, 1, 1, 1],\n",
       "       [1, 1, 1, 1, 1],\n",
       "       [1, 1, 1, 1, 1],\n",
       "       [1, 1, 1, 1, 1]])"
      ]
     },
     "execution_count": 11,
     "metadata": {},
     "output_type": "execute_result"
    }
   ],
   "source": [
    "np.ones((4,5),dtype=int)"
   ]
  },
  {
   "cell_type": "code",
   "execution_count": 12,
   "metadata": {},
   "outputs": [
    {
     "data": {
      "text/plain": [
       "array([[0.41902603, 0.29638274, 0.6366347 , 0.09549197],\n",
       "       [0.35106864, 0.48609873, 0.9069187 , 0.32355577],\n",
       "       [0.04287642, 0.41387017, 0.72164446, 0.26937953],\n",
       "       [0.74499055, 0.96515746, 0.89647041, 0.24616722]])"
      ]
     },
     "execution_count": 12,
     "metadata": {},
     "output_type": "execute_result"
    }
   ],
   "source": [
    "#to create array of random values:\n",
    "#To create a array of random values\n",
    "arr7=np.random.rand(4,4)\n",
    "arr7"
   ]
  },
  {
   "cell_type": "code",
   "execution_count": 13,
   "metadata": {},
   "outputs": [
    {
     "data": {
      "text/plain": [
       "array([[-1.29100969,  0.18130724,  0.74134373,  0.02630019],\n",
       "       [-1.23846967, -1.79434488,  1.03477034,  0.92327299],\n",
       "       [ 0.05519039,  1.30418522, -0.84408208,  0.08789224],\n",
       "       [ 0.11887461,  0.39775292,  0.81260049,  0.32600479]])"
      ]
     },
     "execution_count": 13,
     "metadata": {},
     "output_type": "execute_result"
    }
   ],
   "source": [
    "arr8=np.random.randn(4,4)\n",
    "arr8\n",
    "#here,the generated values follows standard normal distrubution"
   ]
  },
  {
   "cell_type": "code",
   "execution_count": 14,
   "metadata": {},
   "outputs": [
    {
     "data": {
      "text/plain": [
       "<matplotlib.axes._subplots.AxesSubplot at 0x7fbfc73e9550>"
      ]
     },
     "execution_count": 14,
     "metadata": {},
     "output_type": "execute_result"
    },
    {
     "data": {
      "image/png": "[encoded data removed]",
      "text/plain": [
       "<Figure size 432x288 with 1 Axes>"
      ]
     },
     "metadata": {
      "needs_background": "light"
     },
     "output_type": "display_data"
    }
   ],
   "source": [
    "#lets just plot the above generated randon values using randn\n",
    "import seaborn as sns\n",
    "import pandas as pd\n",
    "sns.distplot(pd.DataFrame(arr8))"
   ]
  },
  {
   "cell_type": "code",
   "execution_count": 15,
   "metadata": {},
   "outputs": [
    {
     "data": {
      "text/plain": [
       "array([40, 92, 43,  3, 90, 78, 45, 36])"
      ]
     },
     "execution_count": 15,
     "metadata": {},
     "output_type": "execute_result"
    }
   ],
   "source": [
    "#randint\n",
    "np.random.randint(0,100,8)\n"
   ]
  },
  {
   "cell_type": "code",
   "execution_count": 16,
   "metadata": {},
   "outputs": [],
   "source": [
    "#randonsmaple\n",
    "arr8=np.random.random_sample(10)"
   ]
  },
  {
   "cell_type": "code",
   "execution_count": 17,
   "metadata": {},
   "outputs": [
    {
     "data": {
      "text/plain": [
       "<matplotlib.axes._subplots.AxesSubplot at 0x7fbfc74ba820>"
      ]
     },
     "execution_count": 17,
     "metadata": {},
     "output_type": "execute_result"
    },
    {
     "data": {
      "image/png": "[encoded data removed]",
      "text/plain": [
       "<Figure size 432x288 with 1 Axes>"
      ]
     },
     "metadata": {
      "needs_background": "light"
     },
     "output_type": "display_data"
    }
   ],
   "source": [
    "sns.distplot(pd.DataFrame(arr8))"
   ]
  },
  {
   "cell_type": "markdown",
   "metadata": {},
   "source": [
    "# Pandas\n"
   ]
  },
  {
   "cell_type": "code",
   "execution_count": 18,
   "metadata": {},
   "outputs": [
    {
     "data": {
      "text/html": [
       "<div>\n",
       "<style scoped>\n",
       "    .dataframe tbody tr th:only-of-type {\n",
       "        vertical-align: middle;\n",
       "    }\n",
       "\n",
       "    .dataframe tbody tr th {\n",
       "        vertical-align: top;\n",
       "    }\n",
       "\n",
       "    .dataframe thead th {\n",
       "        text-align: right;\n",
       "    }\n",
       "</style>\n",
       "<table border=\"1\" class=\"dataframe\">\n",
       "  <thead>\n",
       "    <tr style=\"text-align: right;\">\n",
       "      <th></th>\n",
       "      <th>Column1</th>\n",
       "      <th>column2</th>\n",
       "      <th>column3</th>\n",
       "      <th>column4</th>\n",
       "    </tr>\n",
       "  </thead>\n",
       "  <tbody>\n",
       "    <tr>\n",
       "      <th>Row1</th>\n",
       "      <td>0</td>\n",
       "      <td>1</td>\n",
       "      <td>2</td>\n",
       "      <td>3</td>\n",
       "    </tr>\n",
       "    <tr>\n",
       "      <th>Row2</th>\n",
       "      <td>4</td>\n",
       "      <td>5</td>\n",
       "      <td>6</td>\n",
       "      <td>7</td>\n",
       "    </tr>\n",
       "    <tr>\n",
       "      <th>Row3</th>\n",
       "      <td>8</td>\n",
       "      <td>9</td>\n",
       "      <td>10</td>\n",
       "      <td>11</td>\n",
       "    </tr>\n",
       "    <tr>\n",
       "      <th>Row4</th>\n",
       "      <td>12</td>\n",
       "      <td>13</td>\n",
       "      <td>14</td>\n",
       "      <td>15</td>\n",
       "    </tr>\n",
       "    <tr>\n",
       "      <th>Row5</th>\n",
       "      <td>16</td>\n",
       "      <td>17</td>\n",
       "      <td>18</td>\n",
       "      <td>19</td>\n",
       "    </tr>\n",
       "  </tbody>\n",
       "</table>\n",
       "</div>"
      ],
      "text/plain": [
       "      Column1  column2  column3  column4\n",
       "Row1        0        1        2        3\n",
       "Row2        4        5        6        7\n",
       "Row3        8        9       10       11\n",
       "Row4       12       13       14       15\n",
       "Row5       16       17       18       19"
      ]
     },
     "execution_count": 18,
     "metadata": {},
     "output_type": "execute_result"
    }
   ],
   "source": [
    "#First thing is to import python:\n",
    "import pandas as pd\n",
    "import numpy as np\n",
    "#Creating a DataFrame:\n",
    "a=pd.DataFrame(np.arange(0,20).reshape(5,4),index=['Row1','Row2','Row3','Row4','Row5'],columns=['Column1','column2','column3','column4'])\n",
    "a\n"
   ]
  },
  {
   "cell_type": "code",
   "execution_count": 19,
   "metadata": {},
   "outputs": [],
   "source": [
    "#To convert the above dataframe to excel\n",
    "a.to_csv('TEST1.csv')"
   ]
  },
  {
   "cell_type": "code",
   "execution_count": 20,
   "metadata": {},
   "outputs": [
    {
     "name": "stdout",
     "output_type": "stream",
     "text": [
      "\n"
     ]
    },
    {
     "data": {
      "text/plain": [
       "Column1    4\n",
       "column2    5\n",
       "column3    6\n",
       "column4    7\n",
       "Name: Row2, dtype: int64"
      ]
     },
     "execution_count": 20,
     "metadata": {},
     "output_type": "execute_result"
    }
   ],
   "source": [
    "#Accesing the elements:\n",
    "#1.two ways\n",
    "#loc and i loc\n",
    "a.loc['Row1'] #accesing the elements using row name\n",
    "print()\n",
    "a.iloc[1] #accesing the elements using index of row"
   ]
  },
  {
   "cell_type": "code",
   "execution_count": 21,
   "metadata": {},
   "outputs": [
    {
     "name": "stdout",
     "output_type": "stream",
     "text": [
      "Row1     1\n",
      "Row2     5\n",
      "Row3     9\n",
      "Row4    13\n",
      "Row5    17\n",
      "Name: column2, dtype: int64\n"
     ]
    }
   ],
   "source": [
    "a.loc[:,'Column1'] #syntax to access the column:\n",
    "print(a.iloc[:,1])"
   ]
  },
  {
   "cell_type": "code",
   "execution_count": 22,
   "metadata": {},
   "outputs": [
    {
     "data": {
      "text/html": [
       "<div>\n",
       "<style scoped>\n",
       "    .dataframe tbody tr th:only-of-type {\n",
       "        vertical-align: middle;\n",
       "    }\n",
       "\n",
       "    .dataframe tbody tr th {\n",
       "        vertical-align: top;\n",
       "    }\n",
       "\n",
       "    .dataframe thead th {\n",
       "        text-align: right;\n",
       "    }\n",
       "</style>\n",
       "<table border=\"1\" class=\"dataframe\">\n",
       "  <thead>\n",
       "    <tr style=\"text-align: right;\">\n",
       "      <th></th>\n",
       "      <th>column2</th>\n",
       "      <th>column3</th>\n",
       "    </tr>\n",
       "  </thead>\n",
       "  <tbody>\n",
       "    <tr>\n",
       "      <th>Row2</th>\n",
       "      <td>5</td>\n",
       "      <td>6</td>\n",
       "    </tr>\n",
       "    <tr>\n",
       "      <th>Row3</th>\n",
       "      <td>9</td>\n",
       "      <td>10</td>\n",
       "    </tr>\n",
       "  </tbody>\n",
       "</table>\n",
       "</div>"
      ],
      "text/plain": [
       "      column2  column3\n",
       "Row2        5        6\n",
       "Row3        9       10"
      ]
     },
     "execution_count": 22,
     "metadata": {},
     "output_type": "execute_result"
    }
   ],
   "source": [
    "#accessing multiple rows and columns using iloc\n",
    "a.iloc[1:3,1:3]"
   ]
  },
  {
   "cell_type": "code",
   "execution_count": 23,
   "metadata": {},
   "outputs": [
    {
     "data": {
      "text/plain": [
       "pandas.core.series.Series"
      ]
     },
     "execution_count": 23,
     "metadata": {},
     "output_type": "execute_result"
    }
   ],
   "source": [
    "#if i try to represent more than one column type of it will be datatype as shown above\n",
    "#but if there are no columns given the type of it will be data series\n",
    "b=a.iloc[1:3,0]\n",
    "b\n",
    "type(b)"
   ]
  },
  {
   "cell_type": "code",
   "execution_count": 24,
   "metadata": {},
   "outputs": [
    {
     "data": {
      "text/plain": [
       "(5, 3)"
      ]
     },
     "execution_count": 24,
     "metadata": {},
     "output_type": "execute_result"
    }
   ],
   "source": [
    "#converting dataframes into arrays\n",
    "a.iloc[:,1:].values\n",
    "a.iloc[:,1:].values.shape"
   ]
  },
  {
   "cell_type": "code",
   "execution_count": 25,
   "metadata": {},
   "outputs": [
    {
     "data": {
      "text/plain": [
       "Column1    0\n",
       "column2    0\n",
       "column3    0\n",
       "column4    0\n",
       "dtype: int64"
      ]
     },
     "execution_count": 25,
     "metadata": {},
     "output_type": "execute_result"
    }
   ],
   "source": [
    "#To check for null condition\n",
    "a.isnull().sum()"
   ]
  },
  {
   "cell_type": "code",
   "execution_count": 26,
   "metadata": {},
   "outputs": [
    {
     "data": {
      "text/plain": [
       "array([ 0,  4,  8, 12, 16])"
      ]
     },
     "execution_count": 26,
     "metadata": {},
     "output_type": "execute_result"
    }
   ],
   "source": [
    "a['Column1'].unique() #displays the unique values present in the dataset"
   ]
  },
  {
   "cell_type": "code",
   "execution_count": null,
   "metadata": {},
   "outputs": [],
   "source": []
  },
  {
   "cell_type": "code",
   "execution_count": 27,
   "metadata": {},
   "outputs": [
    {
     "data": {
      "text/html": [
       "<div>\n",
       "<style scoped>\n",
       "    .dataframe tbody tr th:only-of-type {\n",
       "        vertical-align: middle;\n",
       "    }\n",
       "\n",
       "    .dataframe tbody tr th {\n",
       "        vertical-align: top;\n",
       "    }\n",
       "\n",
       "    .dataframe thead th {\n",
       "        text-align: right;\n",
       "    }\n",
       "</style>\n",
       "<table border=\"1\" class=\"dataframe\">\n",
       "  <thead>\n",
       "    <tr style=\"text-align: right;\">\n",
       "      <th></th>\n",
       "      <th>column2</th>\n",
       "      <th>column3</th>\n",
       "    </tr>\n",
       "  </thead>\n",
       "  <tbody>\n",
       "    <tr>\n",
       "      <th>Row1</th>\n",
       "      <td>6</td>\n",
       "      <td>11</td>\n",
       "    </tr>\n",
       "    <tr>\n",
       "      <th>Row2</th>\n",
       "      <td>31</td>\n",
       "      <td>36</td>\n",
       "    </tr>\n",
       "  </tbody>\n",
       "</table>\n",
       "</div>"
      ],
      "text/plain": [
       "      column2  column3\n",
       "Row1        6       11\n",
       "Row2       31       36"
      ]
     },
     "execution_count": 27,
     "metadata": {},
     "output_type": "execute_result"
    }
   ],
   "source": [
    "h1=pd.DataFrame(np.arange(1,100,5).reshape(4,5),index=['Row1','Row2','Row3','Row4'],columns=['column1','column2','column3','column4','column5'])\n",
    "h1.loc['Row1']\n",
    "h1.iloc[0:2,1:3]"
   ]
  },
  {
   "cell_type": "code",
   "execution_count": 28,
   "metadata": {},
   "outputs": [
    {
     "data": {
      "text/plain": [
       "pandas.core.series.Series"
      ]
     },
     "execution_count": 28,
     "metadata": {},
     "output_type": "execute_result"
    }
   ],
   "source": [
    "h2=h1.iloc[0:2,0]\n",
    "type(h2)"
   ]
  },
  {
   "cell_type": "code",
   "execution_count": 29,
   "metadata": {},
   "outputs": [
    {
     "data": {
      "text/plain": [
       "column1    0\n",
       "column2    0\n",
       "column3    0\n",
       "column4    0\n",
       "column5    0\n",
       "dtype: int64"
      ]
     },
     "execution_count": 29,
     "metadata": {},
     "output_type": "execute_result"
    }
   ],
   "source": [
    "#to check whether there are any null values\n",
    "h1.isnull().sum()"
   ]
  },
  {
   "cell_type": "code",
   "execution_count": 30,
   "metadata": {},
   "outputs": [
    {
     "data": {
      "text/plain": [
       "array([ 1, 26, 51, 76])"
      ]
     },
     "execution_count": 30,
     "metadata": {},
     "output_type": "execute_result"
    }
   ],
   "source": [
    "h1['column1'].unique()"
   ]
  },
  {
   "cell_type": "code",
   "execution_count": 31,
   "metadata": {},
   "outputs": [
    {
     "data": {
      "text/plain": [
       "array([[ 6, 11, 16, 21],\n",
       "       [31, 36, 41, 46],\n",
       "       [56, 61, 66, 71],\n",
       "       [81, 86, 91, 96]])"
      ]
     },
     "execution_count": 31,
     "metadata": {},
     "output_type": "execute_result"
    }
   ],
   "source": [
    "h1.iloc[:,1:].values"
   ]
  },
  {
   "cell_type": "code",
   "execution_count": 32,
   "metadata": {},
   "outputs": [
    {
     "data": {
      "text/html": [
       "<div>\n",
       "<style scoped>\n",
       "    .dataframe tbody tr th:only-of-type {\n",
       "        vertical-align: middle;\n",
       "    }\n",
       "\n",
       "    .dataframe tbody tr th {\n",
       "        vertical-align: top;\n",
       "    }\n",
       "\n",
       "    .dataframe thead th {\n",
       "        text-align: right;\n",
       "    }\n",
       "</style>\n",
       "<table border=\"1\" class=\"dataframe\">\n",
       "  <thead>\n",
       "    <tr style=\"text-align: right;\">\n",
       "      <th></th>\n",
       "      <th>Subject_ID</th>\n",
       "      <th>Age</th>\n",
       "      <th>BMI</th>\n",
       "      <th>Diastolic_before</th>\n",
       "      <th>Systolic_before</th>\n",
       "      <th>Diastolic_after</th>\n",
       "      <th>Systolic_after</th>\n",
       "    </tr>\n",
       "  </thead>\n",
       "  <tbody>\n",
       "    <tr>\n",
       "      <th>0</th>\n",
       "      <td>1</td>\n",
       "      <td>48.9</td>\n",
       "      <td>24.8</td>\n",
       "      <td>138</td>\n",
       "      <td>69.7</td>\n",
       "      <td>137</td>\n",
       "      <td>72.7</td>\n",
       "    </tr>\n",
       "    <tr>\n",
       "      <th>1</th>\n",
       "      <td>2</td>\n",
       "      <td>64.3</td>\n",
       "      <td>37.2</td>\n",
       "      <td>122</td>\n",
       "      <td>79.5</td>\n",
       "      <td>134</td>\n",
       "      <td>81.2</td>\n",
       "    </tr>\n",
       "    <tr>\n",
       "      <th>2</th>\n",
       "      <td>3</td>\n",
       "      <td>46.1</td>\n",
       "      <td>24.1</td>\n",
       "      <td>141</td>\n",
       "      <td>95.9</td>\n",
       "      <td>143</td>\n",
       "      <td>76.4</td>\n",
       "    </tr>\n",
       "    <tr>\n",
       "      <th>3</th>\n",
       "      <td>4</td>\n",
       "      <td>61.8</td>\n",
       "      <td>25.7</td>\n",
       "      <td>138</td>\n",
       "      <td>86.2</td>\n",
       "      <td>142</td>\n",
       "      <td>70.9</td>\n",
       "    </tr>\n",
       "    <tr>\n",
       "      <th>4</th>\n",
       "      <td>5</td>\n",
       "      <td>40.0</td>\n",
       "      <td>30.2</td>\n",
       "      <td>131</td>\n",
       "      <td>72.5</td>\n",
       "      <td>134</td>\n",
       "      <td>88.3</td>\n",
       "    </tr>\n",
       "  </tbody>\n",
       "</table>\n",
       "</div>"
      ],
      "text/plain": [
       "   Subject_ID   Age   BMI  Diastolic_before  Systolic_before  Diastolic_after  \\\n",
       "0           1  48.9  24.8               138             69.7              137   \n",
       "1           2  64.3  37.2               122             79.5              134   \n",
       "2           3  46.1  24.1               141             95.9              143   \n",
       "3           4  61.8  25.7               138             86.2              142   \n",
       "4           5  40.0  30.2               131             72.5              134   \n",
       "\n",
       "   Systolic_after  \n",
       "0            72.7  \n",
       "1            81.2  \n",
       "2            76.4  \n",
       "3            70.9  \n",
       "4            88.3  "
      ]
     },
     "execution_count": 32,
     "metadata": {},
     "output_type": "execute_result"
    }
   ],
   "source": [
    "#Reading csv files:\n",
    "a=pd.read_csv(\"bloodpressure.csv\")\n",
    "a.head()"
   ]
  },
  {
   "cell_type": "code",
   "execution_count": 33,
   "metadata": {},
   "outputs": [
    {
     "name": "stdout",
     "output_type": "stream",
     "text": [
      "<class 'pandas.core.frame.DataFrame'>\n",
      "RangeIndex: 100 entries, 0 to 99\n",
      "Data columns (total 7 columns):\n",
      " #   Column            Non-Null Count  Dtype  \n",
      "---  ------            --------------  -----  \n",
      " 0   Subject_ID        100 non-null    int64  \n",
      " 1   Age               100 non-null    float64\n",
      " 2   BMI               100 non-null    float64\n",
      " 3   Diastolic_before  100 non-null    int64  \n",
      " 4   Systolic_before   100 non-null    float64\n",
      " 5   Diastolic_after   100 non-null    int64  \n",
      " 6   Systolic_after    100 non-null    float64\n",
      "dtypes: float64(4), int64(3)\n",
      "memory usage: 5.6 KB\n"
     ]
    }
   ],
   "source": [
    "a.info() #It displays information about the data"
   ]
  },
  {
   "cell_type": "code",
   "execution_count": 34,
   "metadata": {},
   "outputs": [
    {
     "data": {
      "text/html": [
       "<div>\n",
       "<style scoped>\n",
       "    .dataframe tbody tr th:only-of-type {\n",
       "        vertical-align: middle;\n",
       "    }\n",
       "\n",
       "    .dataframe tbody tr th {\n",
       "        vertical-align: top;\n",
       "    }\n",
       "\n",
       "    .dataframe thead th {\n",
       "        text-align: right;\n",
       "    }\n",
       "</style>\n",
       "<table border=\"1\" class=\"dataframe\">\n",
       "  <thead>\n",
       "    <tr style=\"text-align: right;\">\n",
       "      <th></th>\n",
       "      <th>Subject_ID</th>\n",
       "      <th>Age</th>\n",
       "      <th>BMI</th>\n",
       "      <th>Diastolic_before</th>\n",
       "      <th>Systolic_before</th>\n",
       "      <th>Diastolic_after</th>\n",
       "      <th>Systolic_after</th>\n",
       "    </tr>\n",
       "  </thead>\n",
       "  <tbody>\n",
       "    <tr>\n",
       "      <th>count</th>\n",
       "      <td>100.000000</td>\n",
       "      <td>100.000000</td>\n",
       "      <td>100.000000</td>\n",
       "      <td>100.000000</td>\n",
       "      <td>100.000000</td>\n",
       "      <td>100.000000</td>\n",
       "      <td>100.000000</td>\n",
       "    </tr>\n",
       "    <tr>\n",
       "      <th>mean</th>\n",
       "      <td>50.500000</td>\n",
       "      <td>50.274000</td>\n",
       "      <td>27.228000</td>\n",
       "      <td>136.160000</td>\n",
       "      <td>82.810000</td>\n",
       "      <td>131.920000</td>\n",
       "      <td>77.017000</td>\n",
       "    </tr>\n",
       "    <tr>\n",
       "      <th>std</th>\n",
       "      <td>29.011492</td>\n",
       "      <td>7.445229</td>\n",
       "      <td>4.965072</td>\n",
       "      <td>8.981147</td>\n",
       "      <td>9.203485</td>\n",
       "      <td>11.886398</td>\n",
       "      <td>7.536766</td>\n",
       "    </tr>\n",
       "    <tr>\n",
       "      <th>min</th>\n",
       "      <td>1.000000</td>\n",
       "      <td>26.700000</td>\n",
       "      <td>16.400000</td>\n",
       "      <td>113.000000</td>\n",
       "      <td>64.900000</td>\n",
       "      <td>106.000000</td>\n",
       "      <td>57.600000</td>\n",
       "    </tr>\n",
       "    <tr>\n",
       "      <th>25%</th>\n",
       "      <td>25.750000</td>\n",
       "      <td>45.700000</td>\n",
       "      <td>23.675000</td>\n",
       "      <td>130.000000</td>\n",
       "      <td>76.400000</td>\n",
       "      <td>125.000000</td>\n",
       "      <td>71.275000</td>\n",
       "    </tr>\n",
       "    <tr>\n",
       "      <th>50%</th>\n",
       "      <td>50.500000</td>\n",
       "      <td>50.050000</td>\n",
       "      <td>27.150000</td>\n",
       "      <td>136.000000</td>\n",
       "      <td>82.700000</td>\n",
       "      <td>132.000000</td>\n",
       "      <td>78.100000</td>\n",
       "    </tr>\n",
       "    <tr>\n",
       "      <th>75%</th>\n",
       "      <td>75.250000</td>\n",
       "      <td>55.700000</td>\n",
       "      <td>30.950000</td>\n",
       "      <td>143.000000</td>\n",
       "      <td>88.700000</td>\n",
       "      <td>140.000000</td>\n",
       "      <td>81.350000</td>\n",
       "    </tr>\n",
       "    <tr>\n",
       "      <th>max</th>\n",
       "      <td>100.000000</td>\n",
       "      <td>68.400000</td>\n",
       "      <td>38.000000</td>\n",
       "      <td>154.000000</td>\n",
       "      <td>108.000000</td>\n",
       "      <td>172.000000</td>\n",
       "      <td>95.600000</td>\n",
       "    </tr>\n",
       "  </tbody>\n",
       "</table>\n",
       "</div>"
      ],
      "text/plain": [
       "       Subject_ID         Age         BMI  Diastolic_before  Systolic_before  \\\n",
       "count  100.000000  100.000000  100.000000        100.000000       100.000000   \n",
       "mean    50.500000   50.274000   27.228000        136.160000        82.810000   \n",
       "std     29.011492    7.445229    4.965072          8.981147         9.203485   \n",
       "min      1.000000   26.700000   16.400000        113.000000        64.900000   \n",
       "25%     25.750000   45.700000   23.675000        130.000000        76.400000   \n",
       "50%     50.500000   50.050000   27.150000        136.000000        82.700000   \n",
       "75%     75.250000   55.700000   30.950000        143.000000        88.700000   \n",
       "max    100.000000   68.400000   38.000000        154.000000       108.000000   \n",
       "\n",
       "       Diastolic_after  Systolic_after  \n",
       "count       100.000000      100.000000  \n",
       "mean        131.920000       77.017000  \n",
       "std          11.886398        7.536766  \n",
       "min         106.000000       57.600000  \n",
       "25%         125.000000       71.275000  \n",
       "50%         132.000000       78.100000  \n",
       "75%         140.000000       81.350000  \n",
       "max         172.000000       95.600000  "
      ]
     },
     "execution_count": 34,
     "metadata": {},
     "output_type": "execute_result"
    }
   ],
   "source": [
    "#to display statistiscal values we can write as:\n",
    "a.describe()"
   ]
  },
  {
   "cell_type": "code",
   "execution_count": 35,
   "metadata": {},
   "outputs": [
    {
     "data": {
      "text/plain": [
       "26.6    3\n",
       "23.6    3\n",
       "22.7    2\n",
       "34.1    2\n",
       "24.8    2\n",
       "       ..\n",
       "20.3    1\n",
       "24.6    1\n",
       "28.4    1\n",
       "27.1    1\n",
       "20.7    1\n",
       "Name: BMI, Length: 77, dtype: int64"
      ]
     },
     "execution_count": 35,
     "metadata": {},
     "output_type": "execute_result"
    }
   ],
   "source": [
    "a['BMI'].value_counts()"
   ]
  },
  {
   "cell_type": "code",
   "execution_count": 36,
   "metadata": {
    "scrolled": true
   },
   "outputs": [
    {
     "data": {
      "text/html": [
       "<div>\n",
       "<style scoped>\n",
       "    .dataframe tbody tr th:only-of-type {\n",
       "        vertical-align: middle;\n",
       "    }\n",
       "\n",
       "    .dataframe tbody tr th {\n",
       "        vertical-align: top;\n",
       "    }\n",
       "\n",
       "    .dataframe thead th {\n",
       "        text-align: right;\n",
       "    }\n",
       "</style>\n",
       "<table border=\"1\" class=\"dataframe\">\n",
       "  <thead>\n",
       "    <tr style=\"text-align: right;\">\n",
       "      <th></th>\n",
       "      <th>Subject_ID</th>\n",
       "      <th>Age</th>\n",
       "      <th>BMI</th>\n",
       "      <th>Diastolic_before</th>\n",
       "      <th>Systolic_before</th>\n",
       "      <th>Diastolic_after</th>\n",
       "      <th>Systolic_after</th>\n",
       "    </tr>\n",
       "  </thead>\n",
       "  <tbody>\n",
       "    <tr>\n",
       "      <th>Subject_ID</th>\n",
       "      <td>1.000000</td>\n",
       "      <td>-0.142669</td>\n",
       "      <td>0.059052</td>\n",
       "      <td>-0.069819</td>\n",
       "      <td>0.072007</td>\n",
       "      <td>-0.069099</td>\n",
       "      <td>-0.034604</td>\n",
       "    </tr>\n",
       "    <tr>\n",
       "      <th>Age</th>\n",
       "      <td>-0.142669</td>\n",
       "      <td>1.000000</td>\n",
       "      <td>-0.050570</td>\n",
       "      <td>0.042919</td>\n",
       "      <td>-0.052276</td>\n",
       "      <td>0.110441</td>\n",
       "      <td>0.015941</td>\n",
       "    </tr>\n",
       "    <tr>\n",
       "      <th>BMI</th>\n",
       "      <td>0.059052</td>\n",
       "      <td>-0.050570</td>\n",
       "      <td>1.000000</td>\n",
       "      <td>-0.174092</td>\n",
       "      <td>-0.024726</td>\n",
       "      <td>-0.027432</td>\n",
       "      <td>0.004873</td>\n",
       "    </tr>\n",
       "    <tr>\n",
       "      <th>Diastolic_before</th>\n",
       "      <td>-0.069819</td>\n",
       "      <td>0.042919</td>\n",
       "      <td>-0.174092</td>\n",
       "      <td>1.000000</td>\n",
       "      <td>-0.029483</td>\n",
       "      <td>0.127858</td>\n",
       "      <td>-0.045361</td>\n",
       "    </tr>\n",
       "    <tr>\n",
       "      <th>Systolic_before</th>\n",
       "      <td>0.072007</td>\n",
       "      <td>-0.052276</td>\n",
       "      <td>-0.024726</td>\n",
       "      <td>-0.029483</td>\n",
       "      <td>1.000000</td>\n",
       "      <td>-0.002735</td>\n",
       "      <td>-0.028469</td>\n",
       "    </tr>\n",
       "    <tr>\n",
       "      <th>Diastolic_after</th>\n",
       "      <td>-0.069099</td>\n",
       "      <td>0.110441</td>\n",
       "      <td>-0.027432</td>\n",
       "      <td>0.127858</td>\n",
       "      <td>-0.002735</td>\n",
       "      <td>1.000000</td>\n",
       "      <td>-0.150341</td>\n",
       "    </tr>\n",
       "    <tr>\n",
       "      <th>Systolic_after</th>\n",
       "      <td>-0.034604</td>\n",
       "      <td>0.015941</td>\n",
       "      <td>0.004873</td>\n",
       "      <td>-0.045361</td>\n",
       "      <td>-0.028469</td>\n",
       "      <td>-0.150341</td>\n",
       "      <td>1.000000</td>\n",
       "    </tr>\n",
       "  </tbody>\n",
       "</table>\n",
       "</div>"
      ],
      "text/plain": [
       "                  Subject_ID       Age       BMI  Diastolic_before  \\\n",
       "Subject_ID          1.000000 -0.142669  0.059052         -0.069819   \n",
       "Age                -0.142669  1.000000 -0.050570          0.042919   \n",
       "BMI                 0.059052 -0.050570  1.000000         -0.174092   \n",
       "Diastolic_before   -0.069819  0.042919 -0.174092          1.000000   \n",
       "Systolic_before     0.072007 -0.052276 -0.024726         -0.029483   \n",
       "Diastolic_after    -0.069099  0.110441 -0.027432          0.127858   \n",
       "Systolic_after     -0.034604  0.015941  0.004873         -0.045361   \n",
       "\n",
       "                  Systolic_before  Diastolic_after  Systolic_after  \n",
       "Subject_ID               0.072007        -0.069099       -0.034604  \n",
       "Age                     -0.052276         0.110441        0.015941  \n",
       "BMI                     -0.024726        -0.027432        0.004873  \n",
       "Diastolic_before        -0.029483         0.127858       -0.045361  \n",
       "Systolic_before          1.000000        -0.002735       -0.028469  \n",
       "Diastolic_after         -0.002735         1.000000       -0.150341  \n",
       "Systolic_after          -0.028469        -0.150341        1.000000  "
      ]
     },
     "execution_count": 36,
     "metadata": {},
     "output_type": "execute_result"
    }
   ],
   "source": [
    "a.corr()"
   ]
  },
  {
   "cell_type": "markdown",
   "metadata": {},
   "source": [
    "# CSV\n"
   ]
  },
  {
   "cell_type": "code",
   "execution_count": 37,
   "metadata": {},
   "outputs": [],
   "source": [
    "#creating a csv file\n",
    "from io import StringIO, BytesIO"
   ]
  },
  {
   "cell_type": "code",
   "execution_count": 38,
   "metadata": {},
   "outputs": [],
   "source": [
    "data=('col1,col2,col3\\n''x,y,1\\n''a,b,2\\n''c,d,3')\n"
   ]
  },
  {
   "cell_type": "code",
   "execution_count": 39,
   "metadata": {},
   "outputs": [
    {
     "data": {
      "text/plain": [
       "str"
      ]
     },
     "execution_count": 39,
     "metadata": {},
     "output_type": "execute_result"
    }
   ],
   "source": [
    "type(data)"
   ]
  },
  {
   "cell_type": "code",
   "execution_count": 44,
   "metadata": {},
   "outputs": [
    {
     "data": {
      "text/html": [
       "<div>\n",
       "<style scoped>\n",
       "    .dataframe tbody tr th:only-of-type {\n",
       "        vertical-align: middle;\n",
       "    }\n",
       "\n",
       "    .dataframe tbody tr th {\n",
       "        vertical-align: top;\n",
       "    }\n",
       "\n",
       "    .dataframe thead th {\n",
       "        text-align: right;\n",
       "    }\n",
       "</style>\n",
       "<table border=\"1\" class=\"dataframe\">\n",
       "  <thead>\n",
       "    <tr style=\"text-align: right;\">\n",
       "      <th></th>\n",
       "      <th>col2</th>\n",
       "      <th>col3</th>\n",
       "    </tr>\n",
       "  </thead>\n",
       "  <tbody>\n",
       "    <tr>\n",
       "      <th>0</th>\n",
       "      <td>y</td>\n",
       "      <td>1</td>\n",
       "    </tr>\n",
       "    <tr>\n",
       "      <th>1</th>\n",
       "      <td>b</td>\n",
       "      <td>2</td>\n",
       "    </tr>\n",
       "    <tr>\n",
       "      <th>2</th>\n",
       "      <td>d</td>\n",
       "      <td>3</td>\n",
       "    </tr>\n",
       "  </tbody>\n",
       "</table>\n",
       "</div>"
      ],
      "text/plain": [
       "  col2  col3\n",
       "0    y     1\n",
       "1    b     2\n",
       "2    d     3"
      ]
     },
     "execution_count": 44,
     "metadata": {},
     "output_type": "execute_result"
    }
   ],
   "source": [
    "b=pd.read_csv(StringIO(data),usecols=['col2','col3'])\n",
    "b"
   ]
  },
  {
   "cell_type": "code",
   "execution_count": null,
   "metadata": {},
   "outputs": [],
   "source": [
    "#usecols we can retrieve the column of our interest"
   ]
  },
  {
   "cell_type": "code",
   "execution_count": 45,
   "metadata": {},
   "outputs": [],
   "source": [
    "b.to_csv('a.csv')"
   ]
  },
  {
   "cell_type": "code",
   "execution_count": 47,
   "metadata": {},
   "outputs": [
    {
     "data": {
      "text/html": [
       "<div>\n",
       "<style scoped>\n",
       "    .dataframe tbody tr th:only-of-type {\n",
       "        vertical-align: middle;\n",
       "    }\n",
       "\n",
       "    .dataframe tbody tr th {\n",
       "        vertical-align: top;\n",
       "    }\n",
       "\n",
       "    .dataframe thead th {\n",
       "        text-align: right;\n",
       "    }\n",
       "</style>\n",
       "<table border=\"1\" class=\"dataframe\">\n",
       "  <thead>\n",
       "    <tr style=\"text-align: right;\">\n",
       "      <th></th>\n",
       "      <th>col1</th>\n",
       "      <th>col2</th>\n",
       "      <th>col3</th>\n",
       "    </tr>\n",
       "  </thead>\n",
       "  <tbody>\n",
       "    <tr>\n",
       "      <th>0</th>\n",
       "      <td>x</td>\n",
       "      <td>y</td>\n",
       "      <td>1</td>\n",
       "    </tr>\n",
       "    <tr>\n",
       "      <th>1</th>\n",
       "      <td>a</td>\n",
       "      <td>b</td>\n",
       "      <td>2</td>\n",
       "    </tr>\n",
       "    <tr>\n",
       "      <th>2</th>\n",
       "      <td>c</td>\n",
       "      <td>d</td>\n",
       "      <td>3</td>\n",
       "    </tr>\n",
       "  </tbody>\n",
       "</table>\n",
       "</div>"
      ],
      "text/plain": [
       "  col1 col2 col3\n",
       "0    x    y    1\n",
       "1    a    b    2\n",
       "2    c    d    3"
      ]
     },
     "execution_count": 47,
     "metadata": {},
     "output_type": "execute_result"
    }
   ],
   "source": [
    "c=pd.read_csv(StringIO(data),dtype='str')\n",
    "c"
   ]
  },
  {
   "cell_type": "code",
   "execution_count": 48,
   "metadata": {},
   "outputs": [
    {
     "data": {
      "text/plain": [
       "'c'"
      ]
     },
     "execution_count": 48,
     "metadata": {},
     "output_type": "execute_result"
    }
   ],
   "source": [
    "c['col1'][2]"
   ]
  },
  {
   "cell_type": "code",
   "execution_count": 61,
   "metadata": {
    "scrolled": true
   },
   "outputs": [
    {
     "data": {
      "text/html": [
       "<div>\n",
       "<style scoped>\n",
       "    .dataframe tbody tr th:only-of-type {\n",
       "        vertical-align: middle;\n",
       "    }\n",
       "\n",
       "    .dataframe tbody tr th {\n",
       "        vertical-align: top;\n",
       "    }\n",
       "\n",
       "    .dataframe thead th {\n",
       "        text-align: right;\n",
       "    }\n",
       "</style>\n",
       "<table border=\"1\" class=\"dataframe\">\n",
       "  <thead>\n",
       "    <tr style=\"text-align: right;\">\n",
       "      <th></th>\n",
       "      <th>a</th>\n",
       "      <th>b</th>\n",
       "      <th>c</th>\n",
       "    </tr>\n",
       "    <tr>\n",
       "      <th>index</th>\n",
       "      <th></th>\n",
       "      <th></th>\n",
       "      <th></th>\n",
       "    </tr>\n",
       "  </thead>\n",
       "  <tbody>\n",
       "    <tr>\n",
       "      <th>1.0</th>\n",
       "      <td>1.0</td>\n",
       "      <td>2.0</td>\n",
       "      <td>3.0</td>\n",
       "    </tr>\n",
       "    <tr>\n",
       "      <th>2.0</th>\n",
       "      <td>4.0</td>\n",
       "      <td>5.0</td>\n",
       "      <td>6.0</td>\n",
       "    </tr>\n",
       "    <tr>\n",
       "      <th>3.0</th>\n",
       "      <td>7.0</td>\n",
       "      <td>8.0</td>\n",
       "      <td>9.0</td>\n",
       "    </tr>\n",
       "    <tr>\n",
       "      <th>4.0</th>\n",
       "      <td>10.0</td>\n",
       "      <td>11.0</td>\n",
       "      <td>12.0</td>\n",
       "    </tr>\n",
       "  </tbody>\n",
       "</table>\n",
       "</div>"
      ],
      "text/plain": [
       "          a     b     c\n",
       "index                  \n",
       "1.0     1.0   2.0   3.0\n",
       "2.0     4.0   5.0   6.0\n",
       "3.0     7.0   8.0   9.0\n",
       "4.0    10.0  11.0  12.0"
      ]
     },
     "execution_count": 61,
     "metadata": {},
     "output_type": "execute_result"
    }
   ],
   "source": [
    "data1='index,a,b,c\\n''1,1,2,3\\n''2,4,5,6\\n''3,7,8,9\\n''4,10,11,12'\n",
    "d=pd.read_csv(StringIO(data1),dtype='float',index_col=0)\n",
    "d"
   ]
  },
  {
   "cell_type": "code",
   "execution_count": 60,
   "metadata": {},
   "outputs": [
    {
     "data": {
      "text/plain": [
       "numpy.float64"
      ]
     },
     "execution_count": 60,
     "metadata": {},
     "output_type": "execute_result"
    }
   ],
   "source": [
    "type(d['a'][3])"
   ]
  },
  {
   "cell_type": "code",
   "execution_count": null,
   "metadata": {},
   "outputs": [],
   "source": []
  }
 ],
 "metadata": {
  "kernelspec": {
   "display_name": "Python 3",
   "language": "python",
   "name": "python3"
  },
  "language_info": {
   "codemirror_mode": {
    "name": "ipython",
    "version": 3
   },
   "file_extension": ".py",
   "mimetype": "text/x-python",
   "name": "python",
   "nbconvert_exporter": "python",
   "pygments_lexer": "ipython3",
   "version": "3.8.3"
  }
 },
 "nbformat": 4,
 "nbformat_minor": 4
}
