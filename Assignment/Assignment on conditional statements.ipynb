{
 "cells": [
  {
   "cell_type": "code",
   "execution_count": 1,
   "metadata": {},
   "outputs": [
    {
     "name": "stdout",
     "output_type": "stream",
     "text": [
      "enter the number8\n",
      "The number is not divisible by both 5 and 11\n"
     ]
    }
   ],
   "source": [
    "#1.program to find whether a number is divisible by 5 and 11\n",
    "a=int(input('enter the number'))\n",
    "if(a%5==0) and (a%11==0):\n",
    "    print('The number is divisible by both 5 and 11')\n",
    "else:\n",
    "    print('The number is not divisible by both 5 and 11')\n",
    "    "
   ]
  },
  {
   "cell_type": "code",
   "execution_count": 2,
   "metadata": {},
   "outputs": [
    {
     "name": "stdout",
     "output_type": "stream",
     "text": [
      "enter the characterg\n",
      "The  given character is alphabet\n"
     ]
    }
   ],
   "source": [
    "#2.program to check a character is a alphabet or not\n",
    "ai=input('enter the character')\n",
    "if((ord(ai)>=65)and(ord(ai)<=90))or ((ord(ai)>=97) and (ord(ai)<=122)):\n",
    "    print('The  given character is alphabet')\n",
    "else:\n",
    "    print('The given character is not alphabet')"
   ]
  },
  {
   "cell_type": "code",
   "execution_count": 3,
   "metadata": {},
   "outputs": [
    {
     "name": "stdout",
     "output_type": "stream",
     "text": [
      "enter the number8\n",
      "The number is even\n"
     ]
    }
   ],
   "source": [
    "#3.program to check whether a number is even or odd\n",
    "b=int(input('enter the number'))\n",
    "if((b%2)==0 or (b==0)):\n",
    "    print('The number is even')\n",
    "else:\n",
    "    print('The number is odd')\n",
    "    "
   ]
  },
  {
   "cell_type": "code",
   "execution_count": 4,
   "metadata": {},
   "outputs": [
    {
     "name": "stdout",
     "output_type": "stream",
     "text": [
      "enter the characterh\n",
      "The character is lower case\n"
     ]
    }
   ],
   "source": [
    "#4.Program to check whether a character is uppercase or lower case alphabet\n",
    "c=input('enter the character')\n",
    "if((ord(c)>=65) or (ord(c)<=90)):\n",
    "    print(\"The character is lower case\")\n",
    "else:\n",
    "    print(\"The character is upper case\")"
   ]
  },
  {
   "cell_type": "code",
   "execution_count": 5,
   "metadata": {},
   "outputs": [
    {
     "name": "stdout",
     "output_type": "stream",
     "text": [
      "enter the charactero\n",
      "The character is vowel\n"
     ]
    }
   ],
   "source": [
    "#5.Program to check whether the alphabet is vowel or consonant\n",
    "dh=input('enter the character')\n",
    "if (dh=='a'or dh=='e'or dh=='i'or dh=='o'or dh=='u'):\n",
    "    print('The character is vowel')\n",
    "else:\n",
    "    print('The character is consonant ')\n",
    "    "
   ]
  },
  {
   "cell_type": "code",
   "execution_count": 6,
   "metadata": {},
   "outputs": [
    {
     "name": "stdout",
     "output_type": "stream",
     "text": [
      "enter the week day number5\n",
      "Saturday\n"
     ]
    }
   ],
   "source": [
    "#6.program to input week day number and print week day\n",
    "s=int(input('enter the week day number'))\n",
    "if(s==0):\n",
    "      print(\"Monday\")\n",
    "elif(s==1):\n",
    "      print(\"Tuesday\")\n",
    "elif(s==2):\n",
    "      print(\"Wednesday\")\n",
    "elif(s==3):\n",
    "      print(\"Thrusday\")\n",
    "elif(s==4):\n",
    "      print(\"Friday\")\n",
    "elif(s==5):\n",
    "      print(\"Saturday\")\n",
    "elif(s==6):\n",
    "      print(\"Sunday\")\n",
    "else:\n",
    "      print(\"Enter the weeday number between 0 to 6\")\n",
    "      \n",
    "      "
   ]
  },
  {
   "cell_type": "code",
   "execution_count": 7,
   "metadata": {},
   "outputs": [
    {
     "name": "stdout",
     "output_type": "stream",
     "text": [
      "enter the month number8\n",
      "The number of days in this month is 31 days\n"
     ]
    }
   ],
   "source": [
    "#7.program to input month number and print number of days in month\n",
    "h=int(input('enter the month number'))\n",
    "if(h==1)or (h==3)or (h==5) or(h==7)or(h==8)or(h==10)or(H==12):\n",
    "    print(\"The number of days in this month is 31 days\")\n",
    "elif(h==4)or(h==6)or(h==9)or(h==11):\n",
    "    print(\"The number of days in this month is 30 days\")\n",
    "elif(h==2):    \n",
    "    print(\"The number of days in this month is 28 days\")\n",
    "else:\n",
    "    print(\"enter the month number between 1-12\")\n",
    "    "
   ]
  },
  {
   "cell_type": "code",
   "execution_count": 8,
   "metadata": {},
   "outputs": [
    {
     "name": "stdout",
     "output_type": "stream",
     "text": [
      "enter the first angle70\n",
      "enter the second angle80\n",
      "enter the third angle90\n",
      "The triangle is not valid\n"
     ]
    }
   ],
   "source": [
    "#8.Program to input angles of a triangle and check whether triangle is valid or not\n",
    "a1=int(input(\"enter the first angle\"))\n",
    "b1=int(input(\"enter the second angle\"))\n",
    "c1=int(input(\"enter the third angle\"))\n",
    "#sum of angles in triangle is equal to 180\n",
    "sum=a1+b1+c1\n",
    "if(sum==180):\n",
    "    print(\"The triangle is valid\")\n",
    "else:\n",
    "    print(\"The triangle is not valid\")\n",
    "    \n"
   ]
  },
  {
   "cell_type": "code",
   "execution_count": 10,
   "metadata": {},
   "outputs": [
    {
     "name": "stdout",
     "output_type": "stream",
     "text": [
      "enter the value a of quadratic equation1\n",
      "enter the value b of a quadratic equation4\n",
      "enter the value c of a quadratic equation3\n",
      "The roots are: -1.0 -3.0\n"
     ]
    }
   ],
   "source": [
    "#9.To find the roots of quadratic equation\n",
    "from math import sqrt\n",
    "x=float(input('enter the value a of quadratic equation'))\n",
    "y=float(input('enter the value b of a quadratic equation'))\n",
    "z=float(input('enter the value c of a quadratic equation'))\n",
    "p=(y*y)-4*x*z\n",
    "if(p>0):\n",
    "    root1=(-y+sqrt(p))/(2*x)\n",
    "    root2=(-y-sqrt(p))/(2*x)\n",
    "    print(\"The roots are:\",root1,root2)\n",
    "elif(p==0):\n",
    "    root1=root2=(-y)/(2*x)\n",
    "    print(\"The roots are:\",root1,root2)\n",
    "else:   \n",
    "    print(\"no roots\")"
   ]
  },
  {
   "cell_type": "code",
   "execution_count": null,
   "metadata": {},
   "outputs": [],
   "source": []
  },
  {
   "cell_type": "code",
   "execution_count": null,
   "metadata": {},
   "outputs": [],
   "source": []
  }
 ],
 "metadata": {
  "kernelspec": {
   "display_name": "Python 3",
   "language": "python",
   "name": "python3"
  },
  "language_info": {
   "codemirror_mode": {
    "name": "ipython",
    "version": 3
   },
   "file_extension": ".py",
   "mimetype": "text/x-python",
   "name": "python",
   "nbconvert_exporter": "python",
   "pygments_lexer": "ipython3",
   "version": "3.8.3"
  }
 },
 "nbformat": 4,
 "nbformat_minor": 4
}
