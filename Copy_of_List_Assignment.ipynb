{
  "nbformat": 4,
  "nbformat_minor": 0,
  "metadata": {
    "colab": {
      "name": "Copy of List_Assignment.ipynb",
      "provenance": [],
      "collapsed_sections": []
    },
    "kernelspec": {
      "name": "python3",
      "display_name": "Python 3"
    }
  },
  "cells": [
    {
      "cell_type": "code",
      "metadata": {
        "id": "gtlAv2oq9yzd",
        "colab_type": "code",
        "colab": {
          "base_uri": "https://localhost:8080/",
          "height": 34
        },
        "outputId": "fc8b2f7c-c030-4832-e407-7c4a8bd1a0c0"
      },
      "source": [
        "#Write a Python program to find the sum of all elements in a list using loop.\n",
        "#Input:- [10,20,30,40]\n",
        "#Output:- 100\n",
        "a=[10,20,30,40]\n",
        "sum=0\n",
        "for i in range(0,len(a)):\n",
        " sum=sum+a[i]\n",
        "print(sum) \n",
        " \n",
        "\n"
      ],
      "execution_count": null,
      "outputs": [
        {
          "output_type": "stream",
          "text": [
            "100\n"
          ],
          "name": "stdout"
        }
      ]
    },
    {
      "cell_type": "code",
      "metadata": {
        "id": "gTbA8psa93Y_",
        "colab_type": "code",
        "colab": {
          "base_uri": "https://localhost:8080/",
          "height": 34
        },
        "outputId": "3c89ce20-afe6-4649-e964-f0861cf5a273"
      },
      "source": [
        "#Write a Python program to find the multiplication of all elements in a list using loop.\n",
        "#Input:- [10,20,30,40]\n",
        "#Output:- 240000\n",
        "a=[10,20,30,40]\n",
        "mul=1\n",
        "for i in range(0,len(a)):\n",
        "  mul=mul*a[i]\n",
        "print(mul)  \n",
        "\n",
        "\n"
      ],
      "execution_count": null,
      "outputs": [
        {
          "output_type": "stream",
          "text": [
            "240000\n"
          ],
          "name": "stdout"
        }
      ]
    },
    {
      "cell_type": "code",
      "metadata": {
        "id": "XBCrEtLN94Lj",
        "colab_type": "code",
        "colab": {
          "base_uri": "https://localhost:8080/",
          "height": 34
        },
        "outputId": "93e5ca31-2c76-4a1f-f39f-9c7ee8f3ca84"
      },
      "source": [
        "#Write a Python program to find the largest number from a list using loop.\n",
        "#Input:- [10,100,2321, 1,200,2]\n",
        "#Output:- 2321\n",
        "\n",
        "a=[10,100,2321,1,200,2]\n",
        "for i in range(0 ,len(a)):\n",
        "  a.sort()\n",
        "print(\"The largest number in the list:\",a[-1]) \n"
      ],
      "execution_count": null,
      "outputs": [
        {
          "output_type": "stream",
          "text": [
            "The largest number in the list: 2321\n"
          ],
          "name": "stdout"
        }
      ]
    },
    {
      "cell_type": "code",
      "metadata": {
        "id": "l3paUtbH94Vw",
        "colab_type": "code",
        "colab": {
          "base_uri": "https://localhost:8080/",
          "height": 34
        },
        "outputId": "455a04de-649a-4c8c-be03-009dfdafc0d3"
      },
      "source": [
        "#Write a Python program to find the smallest number from a list using loop.\n",
        "#Input:- [10,100,2321, 1,200,2]\n",
        "#Output:- 1\n",
        "\n",
        "a=[10,100,2321,1,200,2]\n",
        "for i in range(0 ,len(a)):\n",
        "  a.sort()\n",
        "print(\"The largest number in the list:\",a[0]) \n"
      ],
      "execution_count": null,
      "outputs": [
        {
          "output_type": "stream",
          "text": [
            "The largest number in the list: 1\n"
          ],
          "name": "stdout"
        }
      ]
    },
    {
      "cell_type": "code",
      "metadata": {
        "id": "JTVgy5VD94cE",
        "colab_type": "code",
        "colab": {
          "base_uri": "https://localhost:8080/",
          "height": 34
        },
        "outputId": "73e2014b-3576-4d32-8e71-d93db1af98f9"
      },
      "source": [
        "#Write a Python program to count the number of strings having length more than 2 and are palindrome in a list using loop.\n",
        "#Input:- ['ab', 'abc', 'aba', 'xyz', '1991']\n",
        "#Output:- 2\n",
        "a=['ab', 'abc', 'aba', 'xyz', '1991']\n",
        "for i in range(0,len(a)):\n",
        "  if len(a[i])>2 :\n",
        "      i=i+1\n",
        "print(i)  "
      ],
      "execution_count": null,
      "outputs": [
        {
          "output_type": "stream",
          "text": [
            "5\n"
          ],
          "name": "stdout"
        }
      ]
    },
    {
      "cell_type": "code",
      "metadata": {
        "id": "xs-ZGJbJ94gr",
        "colab_type": "code",
        "colab": {
          "base_uri": "https://localhost:8080/",
          "height": 34
        },
        "outputId": "56cab3d8-10df-48e1-caa2-b582095ef68c"
      },
      "source": [
        "#Write a Python program to sort a list in ascending order using loop.\n",
        "#Input:- [100,10,1,298,65,483,49876,2,80,9,9213]\n",
        "#Output:- [1,2,9,10,65,80,100,298,483,9213,49876]\n",
        "\n",
        "def bs(a):\n",
        "    b=len(a)-1\n",
        "    for x in range(b):\n",
        "        for y in range(b-x):\n",
        "            if a[y]>a[y+1]:\n",
        "                a[y],a[y+1]=a[y+1],a[y]\n",
        "    return a        \n",
        "a=[100,10,1,298,65,483,49876,2,80,9,9213]\n",
        "bs(a)    \n",
        "       \n",
        "\n",
        "\n"
      ],
      "execution_count": null,
      "outputs": [
        {
          "output_type": "execute_result",
          "data": {
            "text/plain": [
              "[1, 2, 9, 10, 65, 80, 100, 298, 483, 9213, 49876]"
            ]
          },
          "metadata": {
            "tags": []
          },
          "execution_count": 11
        }
      ]
    },
    {
      "cell_type": "code",
      "metadata": {
        "id": "VhKQJizZ94kg",
        "colab_type": "code",
        "colab": {
          "base_uri": "https://localhost:8080/",
          "height": 34
        },
        "outputId": "a2100228-e8a6-45af-87a8-c17d61d605fd"
      },
      "source": [
        "#Write a Python program to get a sorted list in increasing order of last element in each tuple in a given list using loop.\n",
        "#Input:- [(5,4),(9,1),(2,3),(5,9),(7,6),(5,5)]\n",
        "#output:- [(9,1),(2,3),(5,4),(5,5),(7,6),(5,9)]\n",
        "\n",
        "def bs(a):\n",
        "    b=len(a)-1\n",
        "    for x in range(b):\n",
        "        for y in range(b-x):\n",
        "            if a[y]>a[y+1]:\n",
        "                a[y],a[y+1]=a[y+1],a[y]\n",
        "    return a        \n",
        "a=[(5,4),(9,1),(2,3),(5,9),(7,6),(5,5)]\n",
        "bs(a)    \n"
      ],
      "execution_count": null,
      "outputs": [
        {
          "output_type": "execute_result",
          "data": {
            "text/plain": [
              "[(2, 3), (5, 4), (5, 5), (5, 9), (7, 6), (9, 1)]"
            ]
          },
          "metadata": {
            "tags": []
          },
          "execution_count": 12
        }
      ]
    },
    {
      "cell_type": "code",
      "metadata": {
        "id": "YJrCLYp694n_",
        "colab_type": "code",
        "colab": {
          "base_uri": "https://localhost:8080/",
          "height": 34
        },
        "outputId": "2161da0a-b1cf-4b7b-db6d-0f0efb5e0d8f"
      },
      "source": [
        "#Write a Python program to remove duplicate element from a list using loop.\n",
        "#Input:- [10,1,11,1,29,876,768,10,11,1,92,29,876]\n",
        "#Output:- [10,1,11,29,876,768,92]\n",
        "def dupli(duplicate):\n",
        "  final_list=[]\n",
        "  for i in duplicate:\n",
        "    if(i  not in final_list):\n",
        "      final_list.append(i)\n",
        "  return final_list\n",
        "\n",
        "duplicate= [10,1,11,1,29,876,768,10,11,1,92,29,876]\n",
        "print(dupli(duplicate))\n",
        "\n"
      ],
      "execution_count": null,
      "outputs": [
        {
          "output_type": "stream",
          "text": [
            "[10, 1, 11, 29, 876, 768, 92]\n"
          ],
          "name": "stdout"
        }
      ]
    },
    {
      "cell_type": "code",
      "metadata": {
        "id": "koYe4YCu94rh",
        "colab_type": "code",
        "colab": {
          "base_uri": "https://localhost:8080/",
          "height": 34
        },
        "outputId": "1767c90d-a78e-41fe-b041-4c0a61689c36"
      },
      "source": [
        "#Write a Python program to check a list is empty or not?\n",
        "#Input:- []\n",
        "#Output:- List is empty\n",
        "#Input:- [10,20,30]\n",
        "#Output:- List is not empty\n",
        "a=[10,20,30]\n",
        "b=len(a)\n",
        "if b==0:\n",
        "  print(\"List is empty\")\n",
        "else:\n",
        "  print(\"List is not empty\")  "
      ],
      "execution_count": null,
      "outputs": [
        {
          "output_type": "stream",
          "text": [
            "List is empty\n"
          ],
          "name": "stdout"
        }
      ]
    },
    {
      "cell_type": "code",
      "metadata": {
        "id": "mES1WANa94u5",
        "colab_type": "code",
        "colab": {
          "base_uri": "https://localhost:8080/",
          "height": 34
        },
        "outputId": "ff6c9fd4-1fa9-4cf9-8f7f-08fae7ba63de"
      },
      "source": [
        "#Write a Python program to copy a list using loop.\n",
        "#inp_lst = [10,10.20,10+20j, 'Python', [10,20], (10,20)]\n",
        "#out_lst = [10,10.20,10+20j, 'Python', [10,20], (10,20)]\n",
        "a=[10,10.20,10+20j, 'Python', [10,20], (10,20)]\n",
        "list=[]\n",
        "def copy(a):\n",
        "   list=[]\n",
        "   for i in a:\n",
        "     list.append(i)\n",
        "   return  list\n",
        "a=[10,10.20,10+20j, 'Python', [10,20], (10,20)]\n",
        "print(copy(a))   \n",
        "    \n"
      ],
      "execution_count": null,
      "outputs": [
        {
          "output_type": "stream",
          "text": [
            "[10, 10.2, (10+20j), 'Python', [10, 20], (10, 20)]\n"
          ],
          "name": "stdout"
        }
      ]
    },
    {
      "cell_type": "code",
      "metadata": {
        "id": "CpBh31WO94yi",
        "colab_type": "code",
        "colab": {
          "base_uri": "https://localhost:8080/",
          "height": 68
        },
        "outputId": "4e634152-bc05-4bec-f3eb-5804f46ff2dd"
      },
      "source": [
        "#Write a Python program to find the list of words that are longer than or equal to 4 from a given string.\n",
        "#Input:- 'How much wood would a woodchuck chuck if a woodchuck could chuck wood'\n",
        "#Output:- ['much', 'wood', 'would', 'woodchuck', 'chuck', 'could', 'could']\n",
        "#Note:- Duplicate should be avoided.\n",
        "\n",
        "\n",
        "a='How much wood would a woodchuck chuck if a woodchuck could chuck wood'\n",
        "b=a.split()\n",
        "c=[]\n",
        "print(b)\n",
        "print(len(b))\n",
        "for i in range(0,13):\n",
        "  if (len(b[i])>4):\n",
        "    if b[i] not in c:\n",
        "     (c.append(b[i]))\n",
        "print(c)\n",
        "\n",
        "\n",
        "\n",
        "\n",
        "    \n",
        "\n",
        "\n",
        "\n",
        "\n",
        "   \n",
        "\n",
        "  \n",
        "\n",
        "\n"
      ],
      "execution_count": null,
      "outputs": [
        {
          "output_type": "stream",
          "text": [
            "['How', 'much', 'wood', 'would', 'a', 'woodchuck', 'chuck', 'if', 'a', 'woodchuck', 'could', 'chuck', 'wood']\n",
            "13\n",
            "['would', 'woodchuck', 'chuck', 'could']\n"
          ],
          "name": "stdout"
        }
      ]
    },
    {
      "cell_type": "code",
      "metadata": {
        "id": "YVfj0fgZ9416",
        "colab_type": "code",
        "colab": {
          "base_uri": "https://localhost:8080/",
          "height": 34
        },
        "outputId": "dfd09593-d064-4022-ac08-cc490a01c531"
      },
      "source": [
        "#Write a Python program which takes two list as input and returns True if they have at least 3 common elements.\n",
        "#inp_lst1 = [10,20,'Python', 10.20, 10+20j, [10,20,30], (10,20,30)]\n",
        "#inp_lst2 = [(10,20,30),1,20+3j,100.2, 10+20j, [10,20,30],'Python']\n",
        "#Output:- True\n",
        "a=[10,20,'Python', 10.20, 10+20j, [10,20,30], (10,20,30)]\n",
        "b=[(10,20,30),1,20+3j,100.2, 10+20j, [10,20,30],'Python']\n",
        "k=0\n",
        "for i in range(0,len(a)):\n",
        "  for j in range(0,len(b)):\n",
        "    if (a[i]==b[j]):\n",
        "      k=k+1\n",
        "if (k>3):\n",
        "  print('True')    \n",
        "\n",
        "   \n",
        "\n",
        "\n",
        "\n"
      ],
      "execution_count": null,
      "outputs": [
        {
          "output_type": "stream",
          "text": [
            "True\n"
          ],
          "name": "stdout"
        }
      ]
    },
    {
      "cell_type": "code",
      "metadata": {
        "id": "7vwc3pjR945O",
        "colab_type": "code",
        "colab": {}
      },
      "source": [
        "#Write a Python program to create a 4X4 2D matrix with below elements using loop and list comprehension both.\n",
        "#Output:- [[0,0,0,0],[0,1,2,3],[0,2,4,6],[0,3,6,9]]\n",
        "\n",
        "    \n"
      ],
      "execution_count": 1,
      "outputs": []
    },
    {
      "cell_type": "code",
      "metadata": {
        "id": "Pxafor84948b",
        "colab_type": "code",
        "colab": {}
      },
      "source": [
        "#Write a Python program to create a 3X4X6 3D matrix wiith below elements using loop\n",
        "#Output:- \n",
        "# [\n",
        "#     [[0,0,0,0,0,0],[0,0,0,0,0,0],[0,0,0,0,0,0],[0,0,0,0,0,0]],\n",
        "#     [[0,0,0,0,0,0],[1,1,1,1,1,1],[2,2,2,2,2,2],[3,3,3,3,3,3]],\n",
        "#     [[0,0,0,0,0,0],[2,2,2,2,2,2],[4,4,4,4,4,4],[6,6,6,6,6,6]]\n",
        "# ]\n",
        "\n",
        "\n"
      ],
      "execution_count": null,
      "outputs": []
    },
    {
      "cell_type": "code",
      "metadata": {
        "id": "lYNv8gk794_p",
        "colab_type": "code",
        "colab": {
          "base_uri": "https://localhost:8080/",
          "height": 34
        },
        "outputId": "89c3d50f-e2d4-4a69-b787-8db8958a1d99"
      },
      "source": [
        "#Write a Python program which takes a list of numbers as input and prints a new list after removing even numbers from it.\n",
        "#Input:- [10,21,22,98,87,45,33,1,2,100]\n",
        "#Output:- [21,87,45,33,1]\n",
        "my_str=[10,21,22,98,87,45,33,1,2,100]\n",
        "my_str = [x for x in my_str if x%2!=0]\n",
        "print(my_str)\n",
        "\n",
        "\n"
      ],
      "execution_count": null,
      "outputs": [
        {
          "output_type": "stream",
          "text": [
            "[21, 87, 45, 33, 1]\n"
          ],
          "name": "stdout"
        }
      ]
    },
    {
      "cell_type": "code",
      "metadata": {
        "id": "3BaCb-rB95B7",
        "colab_type": "code",
        "colab": {
          "base_uri": "https://localhost:8080/",
          "height": 34
        },
        "outputId": "477fbe41-6959-46c1-e0f7-ca7b682bb521"
      },
      "source": [
        "#Write a Python program which takes a list from the user and prints it after reshuffling the elements of the list.\n",
        "#Input:- [10,21,22,98,87,45,33,1,2,100]\n",
        "#Output:- [1,87,21,10,33,2,100,45,98,22] (It may be any randon list but with same elements)\n",
        "import random\n",
        "my_str=[10,21,22,98,87,45,33,1,2,100]\n",
        "random.shuffle(my_str)\n",
        "print(\"The shuffled list is:\"+str(my_str))\n"
      ],
      "execution_count": null,
      "outputs": [
        {
          "output_type": "stream",
          "text": [
            "The shuffled list is:[33, 2, 98, 21, 100, 1, 87, 45, 10, 22]\n"
          ],
          "name": "stdout"
        }
      ]
    }
  ]
}