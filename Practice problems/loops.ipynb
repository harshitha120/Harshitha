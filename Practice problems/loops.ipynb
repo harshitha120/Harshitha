{
  "nbformat": 4,
  "nbformat_minor": 0,
  "metadata": {
    "colab": {
      "name": "Copy of Untitled0.ipynb",
      "provenance": [],
      "collapsed_sections": []
    },
    "kernelspec": {
      "name": "python3",
      "display_name": "Python 3"
    }
  },
  "cells": [
    {
      "cell_type": "code",
      "metadata": {
        "id": "9oAXesa2Rcg-",
        "colab_type": "code",
        "colab": {}
      },
      "source": [
        "#Program on Loops\n",
        "#program1:Write a Python program to find those numbers which are divisible by 7 and multiple of 5, between 1500 and 2700 (both included).\n",
        "for i in range(1500,2700):\n",
        "  list=[]\n",
        "  if (i%7==0) and (i%5==0):\n",
        "    print(i) "
      ],
      "execution_count": null,
      "outputs": []
    },
    {
      "cell_type": "code",
      "metadata": {
        "id": "p8OY-8PUSjui",
        "colab_type": "code",
        "colab": {
          "base_uri": "https://localhost:8080/",
          "height": 87
        },
        "outputId": "04369a12-1f91-4e10-af03-40d810e5810c"
      },
      "source": [
        "#program2:Write a Python program to convert temperatures  from celsius, fahrenheit. \n",
        "a=int(input(''' *enter 1 to convert temperature from celsius to farenheit\n",
        "*enter 2 to convert temperature from farenheit to celsius'''))\n",
        "b=int(input('Enter the temperature'))\n",
        "if (a==1):\n",
        "   c=(b-(32/9))*5\n",
        "   print(c)  \n",
        "else:\n",
        "  f=((b/5)+(32/9))\n",
        "  print(f)  "
      ],
      "execution_count": null,
      "outputs": [
        {
          "output_type": "stream",
          "text": [
            " *enter 1 to convert temperature from celsius to farenheit\n",
            "*enter 2 to convert temperature from farenheit to celsius1\n",
            "Enter the temperature20\n",
            "82.22222222222221\n"
          ],
          "name": "stdout"
        }
      ]
    },
    {
      "cell_type": "code",
      "metadata": {
        "id": "oUwVzISHUQZE",
        "colab_type": "code",
        "colab": {
          "base_uri": "https://localhost:8080/",
          "height": 52
        },
        "outputId": "e5cdf354-c026-42c1-cb50-896915349cc0"
      },
      "source": [
        "#Program3:Write a Python program to guess a number between 1 to 9.\n",
        "from random import randint #Importing randint from random module\n",
        "a=int(input('Enter the number between 0 to 9:'))\n",
        "b=random.randint(0,9) #This generates the numbers between 0 to 9\n",
        "if (a==b):\n",
        "  print(\"It is a right match\")\n",
        "else:\n",
        "  print(\"The entered number is not a right match\")  \n"
      ],
      "execution_count": null,
      "outputs": [
        {
          "output_type": "stream",
          "text": [
            "Enter the number between 0 to 9:4\n",
            "The entered number is not a right match\n"
          ],
          "name": "stdout"
        }
      ]
    },
    {
      "cell_type": "code",
      "metadata": {
        "id": "eLMHZITmSj0K",
        "colab_type": "code",
        "colab": {
          "base_uri": "https://localhost:8080/",
          "height": 34
        },
        "outputId": "cc33b9ef-2f8b-4817-f667-7f2ed6384573"
      },
      "source": [
        "#program5:Write a Python program that accepts a word from the user and reverse it.\n",
        "a='Google'\n",
        "b=''\n",
        "for i in a:\n",
        "  b=i+b\n",
        "print(b)\n",
        "  \n"
      ],
      "execution_count": null,
      "outputs": [
        {
          "output_type": "stream",
          "text": [
            "elgooG\n"
          ],
          "name": "stdout"
        }
      ]
    },
    {
      "cell_type": "code",
      "metadata": {
        "id": "BIS-C9y8Sj2o",
        "colab_type": "code",
        "colab": {
          "base_uri": "https://localhost:8080/",
          "height": 52
        },
        "outputId": "9a660875-3cc2-4c78-a86c-06dcc50779d7"
      },
      "source": [
        "#program6:Write a Python program to count the number of even and odd numbers from a series of numbers.\n",
        "a= (1, 2, 3, 4, 5, 6, 7, 8, 9) \n",
        "j=0\n",
        "for i in range(0,len(a)):\n",
        " if (i%2==0):\n",
        "     j=j+1\n",
        "print(\"The total number of even numbers\",j)\n",
        "print(\"The total number of odd numbers\",len(a)-j)     \n",
        "    \n",
        " \n"
      ],
      "execution_count": null,
      "outputs": [
        {
          "output_type": "stream",
          "text": [
            "The total number of even numbers 5\n",
            "The total number of odd numbers 4\n"
          ],
          "name": "stdout"
        }
      ]
    },
    {
      "cell_type": "code",
      "metadata": {
        "id": "Ep30Dyr9WRnj",
        "colab_type": "code",
        "colab": {
          "base_uri": "https://localhost:8080/",
          "height": 158
        },
        "outputId": "883de4e6-f7aa-41cd-af2a-c4f7a2be965c"
      },
      "source": [
        "#Program7:Write a Python program that prints each item and its corresponding type from the following list.\n",
        "a= [1452, 11.23, 1+2j, True, 'w3resource', (0, -1), [5, 12], {\"class\":'V', \"section\":'A'}]\n",
        "for i in a:\n",
        "  print(type(i))"
      ],
      "execution_count": null,
      "outputs": [
        {
          "output_type": "stream",
          "text": [
            "<class 'int'>\n",
            "<class 'float'>\n",
            "<class 'complex'>\n",
            "<class 'bool'>\n",
            "<class 'str'>\n",
            "<class 'tuple'>\n",
            "<class 'list'>\n",
            "<class 'dict'>\n"
          ],
          "name": "stdout"
        }
      ]
    },
    {
      "cell_type": "code",
      "metadata": {
        "id": "ac6l-C9OSj5H",
        "colab_type": "code",
        "colab": {
          "base_uri": "https://localhost:8080/",
          "height": 105
        },
        "outputId": "ea9e9fbf-00c7-42b9-ac22-bb0d962b86b7"
      },
      "source": [
        "#program8:Write a Python program that prints all the numbers from 0 to 6 except 3 and 6.\n",
        "for i in range(0,7):\n",
        "  if (i==3) or (i==6):\n",
        "      continue\n",
        "  else:\n",
        "    print(i)    "
      ],
      "execution_count": null,
      "outputs": [
        {
          "output_type": "stream",
          "text": [
            "0\n",
            "1\n",
            "2\n",
            "4\n",
            "5\n"
          ],
          "name": "stdout"
        }
      ]
    },
    {
      "cell_type": "code",
      "metadata": {
        "id": "uffJ5rPrSj7s",
        "colab_type": "code",
        "colab": {
          "base_uri": "https://localhost:8080/",
          "height": 176
        },
        "outputId": "d04b0cab-427c-4b8d-fa20-e17003f7f694"
      },
      "source": [
        "#program9:Write a Python program to get the Fibonacci series between 0 to 50. \n",
        "a,b=0,1\n",
        "while(b<50):\n",
        "  print(b)\n",
        "  a,b=b,a+b\n",
        "\n",
        "    "
      ],
      "execution_count": null,
      "outputs": [
        {
          "output_type": "stream",
          "text": [
            "1\n",
            "1\n",
            "2\n",
            "3\n",
            "5\n",
            "8\n",
            "13\n",
            "21\n",
            "34\n"
          ],
          "name": "stdout"
        }
      ]
    },
    {
      "cell_type": "code",
      "metadata": {
        "id": "j52O9YlmSj-D",
        "colab_type": "code",
        "colab": {}
      },
      "source": [
        "#program 10:Write a Python program which iterates the integers from 1 to 50. For multiples of three print \"Fizz\" instead of the number and for the multiples of five print \"Buzz\". For numbers which are multiples of both three and five print \"FizzBuzz\".\n",
        "for i in range(0,50):\n",
        "  if (i%5==0) and (i%3==0):\n",
        "    print(\"FizzBuzz\")\n",
        "  elif (i%3==0):  \n",
        "    print(\"Fizz\")\n",
        "  elif (i%5==0):\n",
        "    print(\"Buzz\")\n",
        "  else:\n",
        "    print(i)\n",
        "\n",
        "        "
      ],
      "execution_count": null,
      "outputs": []
    },
    {
      "cell_type": "code",
      "metadata": {
        "id": "g5uJ5s5BSkAb",
        "colab_type": "code",
        "colab": {
          "base_uri": "https://localhost:8080/",
          "height": 34
        },
        "outputId": "116eda77-35a4-4828-9ed8-15b704e4f4f8"
      },
      "source": [
        "#program11:Write a Python program which takes two digits m (row) and n (column) as input and generates a two-dimensional array. The element value in the i-th row and j-th column of the array should be i*j.\n",
        "b=[]\n",
        "for i in range(0,3):\n",
        "   b.append([])\n",
        "   for j in range(0,4):\n",
        "     b[i].append(j)\n",
        "print(b)   \n",
        "\n"
      ],
      "execution_count": null,
      "outputs": [
        {
          "output_type": "stream",
          "text": [
            "[[0, 1, 2, 3], [0, 1, 2, 3], [0, 1, 2, 3]]\n"
          ],
          "name": "stdout"
        }
      ]
    },
    {
      "cell_type": "code",
      "metadata": {
        "id": "GMCekVNhSkC8",
        "colab_type": "code",
        "colab": {}
      },
      "source": [
        "#program 12:Write a Python program that accepts a sequence of lines (blank line to terminate) as input and prints the lines as output (all characters in lower case).\n",
        "a=\"This is Python Class\"\n",
        "b=[]\n",
        "while True:\n",
        "  if a:\n",
        "    b.append(a.lower())\n",
        "for a in b:\n",
        "  print(a)   \n",
        "\n"
      ],
      "execution_count": null,
      "outputs": []
    },
    {
      "cell_type": "code",
      "metadata": {
        "id": "8qSFbEuwSkF2",
        "colab_type": "code",
        "colab": {
          "base_uri": "https://localhost:8080/",
          "height": 52
        },
        "outputId": "f3fbfd3f-4693-4895-cdd9-121f74128ead"
      },
      "source": [
        "#program 13:Write a Python program which accepts a sequence of comma separated 4 digit binary numbers as its input and print the numbers that are divisible by 5 in a comma separated sequence\n",
        "list=[]\n",
        "num=[x for x in input().split(',')]\n",
        "for i in num:\n",
        "  x=int(i,2)\n",
        "  if not x%5:\n",
        "    list.append(i)\n",
        "print(','.join(list))    "
      ],
      "execution_count": null,
      "outputs": [
        {
          "output_type": "stream",
          "text": [
            "0001,0010,0011,0100,0101,0111\n",
            "0101\n"
          ],
          "name": "stdout"
        }
      ]
    },
    {
      "cell_type": "code",
      "metadata": {
        "id": "1OvxhHnRSkIS",
        "colab_type": "code",
        "colab": {
          "base_uri": "https://localhost:8080/",
          "height": 52
        },
        "outputId": "be0a363e-895a-4a94-8ed2-b96da6a2e393"
      },
      "source": [
        "#program 14:Write a Python program that accepts a string and calculate the number of digits and letters.\n",
        "a='Python 3.2'\n",
        "j=0\n",
        "k=0\n",
        "for i in a:\n",
        "  if i.isalpha():\n",
        "    j+=1\n",
        "  elif i.isdigit():\n",
        "    k+=1\n",
        "print(\"The number of letters\",j)  \n",
        "print(\"The number of digits\",k)  \n"
      ],
      "execution_count": null,
      "outputs": [
        {
          "output_type": "stream",
          "text": [
            "The number of letters 6\n",
            "The number of digits 2\n"
          ],
          "name": "stdout"
        }
      ]
    },
    {
      "cell_type": "code",
      "metadata": {
        "id": "h6iE_tFqSkLE",
        "colab_type": "code",
        "colab": {
          "base_uri": "https://localhost:8080/",
          "height": 52
        },
        "outputId": "4a31d175-cb2e-4706-c7a6-4ab0ce846239"
      },
      "source": [
        "#program 15: Write a Python program to check the validity of password input by users. Go to the editor\n",
        "#Validation\n",
        "import re\n",
        "a=input('input the password')\n",
        "b=True\n",
        "while b:\n",
        "  if (len(a)<6) or (len(a)>12):\n",
        "    break\n",
        "  elif not re.search(\"[a-z]\",a):\n",
        "    break\n",
        "  elif not re.search(\"[A-Z]\",a):\n",
        "    break\n",
        "  elif not re.search(\"[0-9]\",a):\n",
        "   break  \n",
        "  else:    \n",
        "    print(\"valid password\")\n",
        "    x=False\n",
        "    break "
      ],
      "execution_count": null,
      "outputs": [
        {
          "output_type": "stream",
          "text": [
            "input the passwordpassworD100\n",
            "valid password\n"
          ],
          "name": "stdout"
        }
      ]
    },
    {
      "cell_type": "code",
      "metadata": {
        "id": "7kEFFGI2SkN6",
        "colab_type": "code",
        "colab": {
          "base_uri": "https://localhost:8080/",
          "height": 54
        },
        "outputId": "ccc4b573-2bb6-4bad-8219-d70d17a947d6"
      },
      "source": [
        "#program 16:Write a Python program to find numbers between 100 and 400 (both included) where each digit of a number is an even number. The numbers obtained should be printed in a comma-separated sequence.\n",
        "list=[]\n",
        "for i in range(100,400):\n",
        "  s=str(i)\n",
        "  if (int(s[0])%2==0) and (int(s[1])%2==0) and (int(s[2])%2==0):\n",
        "    list.append(s)\n",
        "print(\",\".join(list))    \n",
        "   \n",
        "\n",
        "\n",
        "\n"
      ],
      "execution_count": null,
      "outputs": [
        {
          "output_type": "stream",
          "text": [
            "200,202,204,206,208,220,222,224,226,228,240,242,244,246,248,260,262,264,266,268,280,282,284,286,288\n"
          ],
          "name": "stdout"
        }
      ]
    },
    {
      "cell_type": "code",
      "metadata": {
        "id": "jzAgK4Vdr7M4",
        "colab_type": "code",
        "colab": {
          "base_uri": "https://localhost:8080/",
          "height": 52
        },
        "outputId": "879eff9b-a117-4f01-c80a-9a74b2a93563"
      },
      "source": [
        "#program 17:Write a Python program to calculate a dog's age in dog's years.\n",
        "a=int(input(\"Enter the dogs age\"))\n",
        "if (a>2):\n",
        "  x=a-2\n",
        "  y=2\n",
        "  sum1=2*10.5\n",
        "  sum2=x*4\n",
        "  total=sum1+sum2\n",
        "  print(\"The dogs age in dogs years are:\",total)"
      ],
      "execution_count": null,
      "outputs": [
        {
          "output_type": "stream",
          "text": [
            "Enter the dogs age15\n",
            "The dogs age in dogs years are: 73.0\n"
          ],
          "name": "stdout"
        }
      ]
    },
    {
      "cell_type": "code",
      "metadata": {
        "id": "da4mvKm2sWb_",
        "colab_type": "code",
        "colab": {
          "base_uri": "https://localhost:8080/",
          "height": 52
        },
        "outputId": "2edfaf8b-1ad6-464c-e024-63b4b8a467bf"
      },
      "source": [
        "#program 18:Write a Python program to check whether an alphabet is a vowel or consonant. \n",
        "a=input('enter the character:')\n",
        "for m in a:\n",
        "  if (m=='a'or m== 'e' or m=='i' or m=='o' or m=='u'):\n",
        "    print(\"The entered character is vowel\")\n",
        "  else:\n",
        "    print(\"The entered charcter is consonant\")  "
      ],
      "execution_count": null,
      "outputs": [
        {
          "output_type": "stream",
          "text": [
            "enter the characterf\n",
            "The entered charcter is consonant\n"
          ],
          "name": "stdout"
        }
      ]
    },
    {
      "cell_type": "code",
      "metadata": {
        "id": "QoB3gAkPsWfj",
        "colab_type": "code",
        "colab": {
          "base_uri": "https://localhost:8080/",
          "height": 52
        },
        "outputId": "2fdabb5c-7615-47a5-9d7b-864e8f27201f"
      },
      "source": [
        "#program 19:Write a Python program to convert month name to a number of days.\n",
        "a=input(\"Enter the month\")\n",
        "if (a=='January') or (a=='July') or (a=='August') or (a=='December') or (a=='March'):\n",
        "  print(\"The number of days are 31 DAYS\")\n",
        "elif (a=='April' or a=='June' or a=='September' or a=='October' or a=='November'):\n",
        "  print(\"The number of days are 30 DAYS\")\n",
        "else:\n",
        "  print(\"The number of days are 28 Days\")  \n"
      ],
      "execution_count": null,
      "outputs": [
        {
          "output_type": "stream",
          "text": [
            "Enter the monthJanuary\n",
            "The number of days are 31 DAYS\n"
          ],
          "name": "stdout"
        }
      ]
    },
    {
      "cell_type": "code",
      "metadata": {
        "id": "azx7MrZTsWjT",
        "colab_type": "code",
        "colab": {
          "base_uri": "https://localhost:8080/",
          "height": 70
        },
        "outputId": "1ad6612f-6212-4cad-a23d-f616ecf8870d"
      },
      "source": [
        "#program 20: Write a Python program to sum of two given integers. However, if the sum is between 15 to 20 it will return 20.\n",
        "a=int(input(\"enter the number\"))\n",
        "b=int(input(\"enter the number\"))\n",
        "sum=a+b\n",
        "if sum in range(15,20):\n",
        "  print(20)\n",
        "else:\n",
        "  print(sum) "
      ],
      "execution_count": null,
      "outputs": [
        {
          "output_type": "stream",
          "text": [
            "enter the number10\n",
            "enter the number6\n",
            "20\n"
          ],
          "name": "stdout"
        }
      ]
    },
    {
      "cell_type": "code",
      "metadata": {
        "id": "SYso9yqHIzxf",
        "colab_type": "code",
        "colab": {
          "base_uri": "https://localhost:8080/",
          "height": 87
        },
        "outputId": "74d62dd3-5d22-402e-ff1d-71422491c8d7"
      },
      "source": [
        "#program 21:Write a Python program to check a triangle is equilateral, isosceles or scalene.\n",
        "a=int(input(\"enter the length of side 1\"))\n",
        "b=int(input(\"enter the length of side 2\"))\n",
        "c=int(input(\"enter the length of side 3\"))\n",
        "if (a==b==c):\n",
        "  print(\"The given triangle is equilateral traiangle\")\n",
        "elif (a==b or a==c):\n",
        "  print(\"The given traiangle is Isoceles triangle\")\n",
        "else:\n",
        "  print(\"The given traingle is Scalene traingle\")    "
      ],
      "execution_count": null,
      "outputs": [
        {
          "output_type": "stream",
          "text": [
            "enter the length of side 13\n",
            "enter the length of side 23\n",
            "enter the length of side 34\n",
            "The given traiangle is Isoceles triangle\n"
          ],
          "name": "stdout"
        }
      ]
    },
    {
      "cell_type": "code",
      "metadata": {
        "id": "1sSKd1JAgRDh",
        "colab_type": "code",
        "colab": {}
      },
      "source": [
        "#Program 22:Write a Python program that reads two integers representing a month and day and prints the season for that month and day.\n",
        "month=input('ENTER THE MONTH')\n",
        "day=int(input(\"Input the day\"))\n",
        "if month in ('January','February','March'):\n",
        "  season='winter'\n",
        "elif month in ('April','May','June'):\n",
        "  season='Spring'\n",
        "elif month in ('July','August','September'):\n",
        "  season='summer'\n",
        "else:\n",
        "  season='autumn'      \n",
        "\n",
        "if (month=='March') and (day>19):\n",
        "  season='spring'\n",
        "elif (month=='June') and (day>20):\n",
        "  season='summer'\n",
        "elif (month=='September') and (day>21):\n",
        "  season='autumn'\n",
        "elif (month=='December') and (day>20):\n",
        "  season='winter'    \n",
        "print(season)   \n",
        "    "
      ],
      "execution_count": null,
      "outputs": []
    },
    {
      "cell_type": "code",
      "metadata": {
        "id": "H9Xl-6VhHKNT",
        "colab_type": "code",
        "colab": {
          "base_uri": "https://localhost:8080/",
          "height": 87
        },
        "outputId": "76b9a7c5-3926-40d4-9407-dd39d066f656"
      },
      "source": [
        "#program 23:Write a Python program to find the median of three values.\n",
        "a= int(input(\"enter the number\"))\n",
        "b= int(input(\"enter the number\"))\n",
        "c= int(input(\"enter the number\"))\n",
        "if a>b and a>c:\n",
        "  if b>c:\n",
        "    print(\"the median is \",b)\n",
        "  else:\n",
        "    print(\"the mediam is\",c)  \n",
        "if b>a and b>c:\n",
        "  if a>c:\n",
        "    print(\"the median is \",a)\n",
        "  else:\n",
        "    print(\"the mediam is\",c)    \n",
        "if c>a and c>b:\n",
        "  if a>b:\n",
        "    print(\"the median is \",a)\n",
        "  else:\n",
        "    print(\"the mediam is\",b)      "
      ],
      "execution_count": null,
      "outputs": [
        {
          "output_type": "stream",
          "text": [
            "enter the number89\n",
            "enter the number97\n",
            "enter the number2\n",
            "the median is  89\n"
          ],
          "name": "stdout"
        }
      ]
    },
    {
      "cell_type": "code",
      "metadata": {
        "id": "PDKDFbL9HKP-",
        "colab_type": "code",
        "colab": {
          "base_uri": "https://localhost:8080/",
          "height": 87
        },
        "outputId": "48fcffa8-8165-4b42-e6f8-9f497890f8fb"
      },
      "source": [
        "#program 24:Write a Python program to calculate the sum and average of n integer numbers (input from the user). \n",
        "a=int(input('enter the starting number'))\n",
        "b=int(input('enter the last number'))\n",
        "c=b+1\n",
        "sum=0\n",
        "for i in range(a,c):\n",
        "  n=(c-a)\n",
        "  sum=sum+i\n",
        "average=sum/n\n",
        "print(sum)\n",
        "print(average)"
      ],
      "execution_count": null,
      "outputs": [
        {
          "output_type": "stream",
          "text": [
            "enter the starting number1\n",
            "enter the last number10\n",
            "55\n",
            "5.5\n"
          ],
          "name": "stdout"
        }
      ]
    },
    {
      "cell_type": "code",
      "metadata": {
        "id": "6QzjGMllHKSl",
        "colab_type": "code",
        "colab": {
          "base_uri": "https://localhost:8080/",
          "height": 212
        },
        "outputId": "34653dbb-3e2d-42cd-fee7-87d34d2c6a3c"
      },
      "source": [
        "#program 25:Write a Python program to create the multiplication table (from 1 to 10) of a number.\n",
        "a=int(input('enter the number'))\n",
        "for i in range(1,11):\n",
        "  print(a*i)"
      ],
      "execution_count": null,
      "outputs": [
        {
          "output_type": "stream",
          "text": [
            "enter the number6\n",
            "6\n",
            "12\n",
            "18\n",
            "24\n",
            "30\n",
            "36\n",
            "42\n",
            "48\n",
            "54\n",
            "60\n"
          ],
          "name": "stdout"
        }
      ]
    },
    {
      "cell_type": "code",
      "metadata": {
        "id": "Kw9RmI1UkiLe",
        "colab_type": "code",
        "colab": {
          "base_uri": "https://localhost:8080/",
          "height": 194
        },
        "outputId": "e0a3f0de-30ca-4a90-a441-a807678e49fb"
      },
      "source": [
        "#program 26:Write a Python program to construct the following pattern, using a nested loop number.\n",
        "for i in range(10):\n",
        "  print(str(i)*i)"
      ],
      "execution_count": null,
      "outputs": [
        {
          "output_type": "stream",
          "text": [
            "\n",
            "1\n",
            "22\n",
            "333\n",
            "4444\n",
            "55555\n",
            "666666\n",
            "7777777\n",
            "88888888\n",
            "999999999\n"
          ],
          "name": "stdout"
        }
      ]
    },
    {
      "cell_type": "code",
      "metadata": {
        "id": "T90wgKdWHKVL",
        "colab_type": "code",
        "colab": {}
      },
      "source": [
        ""
      ],
      "execution_count": null,
      "outputs": []
    }
  ]
}