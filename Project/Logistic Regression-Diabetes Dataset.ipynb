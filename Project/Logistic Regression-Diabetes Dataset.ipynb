{
 "cells": [
  {
   "cell_type": "markdown",
   "metadata": {},
   "source": [
    "# Diabetes-Logistic Regression\n"
   ]
  },
  {
   "cell_type": "code",
   "execution_count": 3,
   "metadata": {},
   "outputs": [],
   "source": [
    "#Importing libaries:\n",
    "import pandas as pd\n",
    "import numpy as np\n",
    "import matplotlib.pyplot as plt\n",
    "import seaborn as sns\n",
    "%matplotlib inline\n",
    "from sklearn .preprocessing import StandardScaler\n",
    "from sklearn.linear_model import LogisticRegression\n",
    "from sklearn.model_selection import train_test_split\n",
    "from sklearn import metrics"
   ]
  },
  {
   "cell_type": "code",
   "execution_count": 5,
   "metadata": {},
   "outputs": [
    {
     "data": {
      "text/html": [
       "<div>\n",
       "<style scoped>\n",
       "    .dataframe tbody tr th:only-of-type {\n",
       "        vertical-align: middle;\n",
       "    }\n",
       "\n",
       "    .dataframe tbody tr th {\n",
       "        vertical-align: top;\n",
       "    }\n",
       "\n",
       "    .dataframe thead th {\n",
       "        text-align: right;\n",
       "    }\n",
       "</style>\n",
       "<table border=\"1\" class=\"dataframe\">\n",
       "  <thead>\n",
       "    <tr style=\"text-align: right;\">\n",
       "      <th></th>\n",
       "      <th>Pregnancies</th>\n",
       "      <th>Glucose</th>\n",
       "      <th>BloodPressure</th>\n",
       "      <th>SkinThickness</th>\n",
       "      <th>Insulin</th>\n",
       "      <th>BMI</th>\n",
       "      <th>DiabetesPedigreeFunction</th>\n",
       "      <th>Age</th>\n",
       "      <th>Outcome</th>\n",
       "    </tr>\n",
       "  </thead>\n",
       "  <tbody>\n",
       "    <tr>\n",
       "      <th>0</th>\n",
       "      <td>6</td>\n",
       "      <td>148</td>\n",
       "      <td>72</td>\n",
       "      <td>35</td>\n",
       "      <td>0</td>\n",
       "      <td>33.6</td>\n",
       "      <td>0.627</td>\n",
       "      <td>50</td>\n",
       "      <td>1</td>\n",
       "    </tr>\n",
       "    <tr>\n",
       "      <th>1</th>\n",
       "      <td>1</td>\n",
       "      <td>85</td>\n",
       "      <td>66</td>\n",
       "      <td>29</td>\n",
       "      <td>0</td>\n",
       "      <td>26.6</td>\n",
       "      <td>0.351</td>\n",
       "      <td>31</td>\n",
       "      <td>0</td>\n",
       "    </tr>\n",
       "    <tr>\n",
       "      <th>2</th>\n",
       "      <td>8</td>\n",
       "      <td>183</td>\n",
       "      <td>64</td>\n",
       "      <td>0</td>\n",
       "      <td>0</td>\n",
       "      <td>23.3</td>\n",
       "      <td>0.672</td>\n",
       "      <td>32</td>\n",
       "      <td>1</td>\n",
       "    </tr>\n",
       "    <tr>\n",
       "      <th>3</th>\n",
       "      <td>1</td>\n",
       "      <td>89</td>\n",
       "      <td>66</td>\n",
       "      <td>23</td>\n",
       "      <td>94</td>\n",
       "      <td>28.1</td>\n",
       "      <td>0.167</td>\n",
       "      <td>21</td>\n",
       "      <td>0</td>\n",
       "    </tr>\n",
       "    <tr>\n",
       "      <th>4</th>\n",
       "      <td>0</td>\n",
       "      <td>137</td>\n",
       "      <td>40</td>\n",
       "      <td>35</td>\n",
       "      <td>168</td>\n",
       "      <td>43.1</td>\n",
       "      <td>2.288</td>\n",
       "      <td>33</td>\n",
       "      <td>1</td>\n",
       "    </tr>\n",
       "  </tbody>\n",
       "</table>\n",
       "</div>"
      ],
      "text/plain": [
       "   Pregnancies  Glucose  BloodPressure  SkinThickness  Insulin   BMI  \\\n",
       "0            6      148             72             35        0  33.6   \n",
       "1            1       85             66             29        0  26.6   \n",
       "2            8      183             64              0        0  23.3   \n",
       "3            1       89             66             23       94  28.1   \n",
       "4            0      137             40             35      168  43.1   \n",
       "\n",
       "   DiabetesPedigreeFunction  Age  Outcome  \n",
       "0                     0.627   50        1  \n",
       "1                     0.351   31        0  \n",
       "2                     0.672   32        1  \n",
       "3                     0.167   21        0  \n",
       "4                     2.288   33        1  "
      ]
     },
     "execution_count": 5,
     "metadata": {},
     "output_type": "execute_result"
    }
   ],
   "source": [
    "data=pd.read_csv(\"diabetes.csv\")\n",
    "data.head()"
   ]
  },
  {
   "cell_type": "code",
   "execution_count": 6,
   "metadata": {},
   "outputs": [
    {
     "data": {
      "text/plain": [
       "Pregnancies                 0\n",
       "Glucose                     0\n",
       "BloodPressure               0\n",
       "SkinThickness               0\n",
       "Insulin                     0\n",
       "BMI                         0\n",
       "DiabetesPedigreeFunction    0\n",
       "Age                         0\n",
       "Outcome                     0\n",
       "dtype: int64"
      ]
     },
     "execution_count": 6,
     "metadata": {},
     "output_type": "execute_result"
    }
   ],
   "source": [
    "#looking for missing values:\n",
    "data.isnull().sum()"
   ]
  },
  {
   "cell_type": "code",
   "execution_count": 7,
   "metadata": {},
   "outputs": [
    {
     "data": {
      "text/html": [
       "<div>\n",
       "<style scoped>\n",
       "    .dataframe tbody tr th:only-of-type {\n",
       "        vertical-align: middle;\n",
       "    }\n",
       "\n",
       "    .dataframe tbody tr th {\n",
       "        vertical-align: top;\n",
       "    }\n",
       "\n",
       "    .dataframe thead th {\n",
       "        text-align: right;\n",
       "    }\n",
       "</style>\n",
       "<table border=\"1\" class=\"dataframe\">\n",
       "  <thead>\n",
       "    <tr style=\"text-align: right;\">\n",
       "      <th></th>\n",
       "      <th>Pregnancies</th>\n",
       "      <th>Glucose</th>\n",
       "      <th>BloodPressure</th>\n",
       "      <th>SkinThickness</th>\n",
       "      <th>Insulin</th>\n",
       "      <th>BMI</th>\n",
       "      <th>DiabetesPedigreeFunction</th>\n",
       "      <th>Age</th>\n",
       "      <th>Outcome</th>\n",
       "    </tr>\n",
       "  </thead>\n",
       "  <tbody>\n",
       "    <tr>\n",
       "      <th>count</th>\n",
       "      <td>768.000000</td>\n",
       "      <td>768.000000</td>\n",
       "      <td>768.000000</td>\n",
       "      <td>768.000000</td>\n",
       "      <td>768.000000</td>\n",
       "      <td>768.000000</td>\n",
       "      <td>768.000000</td>\n",
       "      <td>768.000000</td>\n",
       "      <td>768.000000</td>\n",
       "    </tr>\n",
       "    <tr>\n",
       "      <th>mean</th>\n",
       "      <td>3.845052</td>\n",
       "      <td>120.894531</td>\n",
       "      <td>69.105469</td>\n",
       "      <td>20.536458</td>\n",
       "      <td>79.799479</td>\n",
       "      <td>31.992578</td>\n",
       "      <td>0.471876</td>\n",
       "      <td>33.240885</td>\n",
       "      <td>0.348958</td>\n",
       "    </tr>\n",
       "    <tr>\n",
       "      <th>std</th>\n",
       "      <td>3.369578</td>\n",
       "      <td>31.972618</td>\n",
       "      <td>19.355807</td>\n",
       "      <td>15.952218</td>\n",
       "      <td>115.244002</td>\n",
       "      <td>7.884160</td>\n",
       "      <td>0.331329</td>\n",
       "      <td>11.760232</td>\n",
       "      <td>0.476951</td>\n",
       "    </tr>\n",
       "    <tr>\n",
       "      <th>min</th>\n",
       "      <td>0.000000</td>\n",
       "      <td>0.000000</td>\n",
       "      <td>0.000000</td>\n",
       "      <td>0.000000</td>\n",
       "      <td>0.000000</td>\n",
       "      <td>0.000000</td>\n",
       "      <td>0.078000</td>\n",
       "      <td>21.000000</td>\n",
       "      <td>0.000000</td>\n",
       "    </tr>\n",
       "    <tr>\n",
       "      <th>25%</th>\n",
       "      <td>1.000000</td>\n",
       "      <td>99.000000</td>\n",
       "      <td>62.000000</td>\n",
       "      <td>0.000000</td>\n",
       "      <td>0.000000</td>\n",
       "      <td>27.300000</td>\n",
       "      <td>0.243750</td>\n",
       "      <td>24.000000</td>\n",
       "      <td>0.000000</td>\n",
       "    </tr>\n",
       "    <tr>\n",
       "      <th>50%</th>\n",
       "      <td>3.000000</td>\n",
       "      <td>117.000000</td>\n",
       "      <td>72.000000</td>\n",
       "      <td>23.000000</td>\n",
       "      <td>30.500000</td>\n",
       "      <td>32.000000</td>\n",
       "      <td>0.372500</td>\n",
       "      <td>29.000000</td>\n",
       "      <td>0.000000</td>\n",
       "    </tr>\n",
       "    <tr>\n",
       "      <th>75%</th>\n",
       "      <td>6.000000</td>\n",
       "      <td>140.250000</td>\n",
       "      <td>80.000000</td>\n",
       "      <td>32.000000</td>\n",
       "      <td>127.250000</td>\n",
       "      <td>36.600000</td>\n",
       "      <td>0.626250</td>\n",
       "      <td>41.000000</td>\n",
       "      <td>1.000000</td>\n",
       "    </tr>\n",
       "    <tr>\n",
       "      <th>max</th>\n",
       "      <td>17.000000</td>\n",
       "      <td>199.000000</td>\n",
       "      <td>122.000000</td>\n",
       "      <td>99.000000</td>\n",
       "      <td>846.000000</td>\n",
       "      <td>67.100000</td>\n",
       "      <td>2.420000</td>\n",
       "      <td>81.000000</td>\n",
       "      <td>1.000000</td>\n",
       "    </tr>\n",
       "  </tbody>\n",
       "</table>\n",
       "</div>"
      ],
      "text/plain": [
       "       Pregnancies     Glucose  BloodPressure  SkinThickness     Insulin  \\\n",
       "count   768.000000  768.000000     768.000000     768.000000  768.000000   \n",
       "mean      3.845052  120.894531      69.105469      20.536458   79.799479   \n",
       "std       3.369578   31.972618      19.355807      15.952218  115.244002   \n",
       "min       0.000000    0.000000       0.000000       0.000000    0.000000   \n",
       "25%       1.000000   99.000000      62.000000       0.000000    0.000000   \n",
       "50%       3.000000  117.000000      72.000000      23.000000   30.500000   \n",
       "75%       6.000000  140.250000      80.000000      32.000000  127.250000   \n",
       "max      17.000000  199.000000     122.000000      99.000000  846.000000   \n",
       "\n",
       "              BMI  DiabetesPedigreeFunction         Age     Outcome  \n",
       "count  768.000000                768.000000  768.000000  768.000000  \n",
       "mean    31.992578                  0.471876   33.240885    0.348958  \n",
       "std      7.884160                  0.331329   11.760232    0.476951  \n",
       "min      0.000000                  0.078000   21.000000    0.000000  \n",
       "25%     27.300000                  0.243750   24.000000    0.000000  \n",
       "50%     32.000000                  0.372500   29.000000    0.000000  \n",
       "75%     36.600000                  0.626250   41.000000    1.000000  \n",
       "max     67.100000                  2.420000   81.000000    1.000000  "
      ]
     },
     "execution_count": 7,
     "metadata": {},
     "output_type": "execute_result"
    }
   ],
   "source": [
    "data.describe()"
   ]
  },
  {
   "cell_type": "code",
   "execution_count": 10,
   "metadata": {},
   "outputs": [
    {
     "data": {
      "text/plain": [
       "Pregnancies                  0.00000\n",
       "Glucose                     57.00000\n",
       "BloodPressure                0.00000\n",
       "SkinThickness                0.00000\n",
       "Insulin                      0.00000\n",
       "BMI                          0.00000\n",
       "DiabetesPedigreeFunction     0.09468\n",
       "Age                         21.00000\n",
       "Outcome                      0.00000\n",
       "Name: 0.01, dtype: float64"
      ]
     },
     "execution_count": 10,
     "metadata": {},
     "output_type": "execute_result"
    }
   ],
   "source": [
    "data.quantile(0.01)"
   ]
  },
  {
   "cell_type": "code",
   "execution_count": 12,
   "metadata": {},
   "outputs": [
    {
     "data": {
      "text/plain": [
       "0.3489583333333333"
      ]
     },
     "execution_count": 12,
     "metadata": {},
     "output_type": "execute_result"
    }
   ],
   "source": [
    "#CHECK FOR EVENT RATE:\n",
    "data['Outcome'].mean()"
   ]
  },
  {
   "cell_type": "code",
   "execution_count": 13,
   "metadata": {},
   "outputs": [
    {
     "data": {
      "image/png": "[encoded data removed]",
      "text/plain": [
       "<Figure size 432x288 with 1 Axes>"
      ]
     },
     "metadata": {
      "needs_background": "light"
     },
     "output_type": "display_data"
    }
   ],
   "source": [
    "#Visualize the event and non event graph\n",
    "sns.countplot(x='Outcome',data=data)\n",
    "plt.show()"
   ]
  },
  {
   "cell_type": "code",
   "execution_count": 15,
   "metadata": {},
   "outputs": [
    {
     "data": {
      "text/plain": [
       "1     135\n",
       "0     111\n",
       "2     103\n",
       "3      75\n",
       "4      68\n",
       "5      57\n",
       "6      50\n",
       "7      45\n",
       "8      38\n",
       "9      28\n",
       "10     24\n",
       "11     11\n",
       "13     10\n",
       "12      9\n",
       "14      2\n",
       "15      1\n",
       "17      1\n",
       "Name: Pregnancies, dtype: int64"
      ]
     },
     "execution_count": 15,
     "metadata": {},
     "output_type": "execute_result"
    }
   ],
   "source": [
    "#unique value each input feature:\n",
    "data['Pregnancies'].value_counts()"
   ]
  },
  {
   "cell_type": "code",
   "execution_count": 16,
   "metadata": {},
   "outputs": [
    {
     "data": {
      "text/plain": [
       "Pregnancies\n",
       "0     0.342342\n",
       "1     0.214815\n",
       "2     0.184466\n",
       "3     0.360000\n",
       "4     0.338235\n",
       "5     0.368421\n",
       "6     0.320000\n",
       "7     0.555556\n",
       "8     0.578947\n",
       "9     0.642857\n",
       "10    0.416667\n",
       "11    0.636364\n",
       "12    0.444444\n",
       "13    0.500000\n",
       "14    1.000000\n",
       "15    1.000000\n",
       "17    1.000000\n",
       "Name: Outcome, dtype: float64"
      ]
     },
     "execution_count": 16,
     "metadata": {},
     "output_type": "execute_result"
    }
   ],
   "source": [
    "#applying groupby operation on pregnancies:\n",
    "data.groupby('Pregnancies')['Outcome'].mean()"
   ]
  },
  {
   "cell_type": "code",
   "execution_count": 17,
   "metadata": {},
   "outputs": [
    {
     "data": {
      "image/png": "[encoded data removed]",
      "text/plain": [
       "<Figure size 432x288 with 1 Axes>"
      ]
     },
     "metadata": {
      "needs_background": "light"
     },
     "output_type": "display_data"
    }
   ],
   "source": [
    "#visualizing the above code as:\n",
    "from numpy import mean\n",
    "ax=sns.barplot(x='Pregnancies',y='Outcome',data=data,estimator=mean)"
   ]
  },
  {
   "cell_type": "markdown",
   "metadata": {},
   "source": [
    "# Feature Selection"
   ]
  },
  {
   "cell_type": "code",
   "execution_count": 19,
   "metadata": {},
   "outputs": [
    {
     "data": {
      "image/png": "[encoded data removed]",
      "text/plain": [
       "<Figure size 432x288 with 1 Axes>"
      ]
     },
     "metadata": {
      "needs_background": "light"
     },
     "output_type": "display_data"
    }
   ],
   "source": [
    "#create buckets or ranks of variables and then across each bucket/rank we study the probability of occurence\n",
    "data['Glucose_rank']=pd.qcut(data['Glucose'].rank(method='first').values,20,duplicates='drop').codes+1\n",
    "from numpy import mean\n",
    "ax=sns.barplot(x='Glucose_rank',y='Outcome',data=data,estimator=mean)\n",
    "#This abov eimplementation is done is using rank and plots\n",
    "\n",
    "\n",
    "\n"
   ]
  },
  {
   "cell_type": "code",
   "execution_count": 25,
   "metadata": {},
   "outputs": [
    {
     "data": {
      "image/png": "[encoded data removed]",
      "text/plain": [
       "<Figure size 432x288 with 1 Axes>"
      ]
     },
     "metadata": {
      "needs_background": "light"
     },
     "output_type": "display_data"
    }
   ],
   "source": [
    "data['Skin_Thickness']=pd.qcut(data['SkinThickness'].rank(method='first').values,20,duplicates='drop').codes+1\n",
    "from numpy import mean\n",
    "ax=sns.barplot(x='Skin_Thickness',y='Outcome',data=data,estimator=mean)"
   ]
  },
  {
   "cell_type": "code",
   "execution_count": 22,
   "metadata": {},
   "outputs": [
    {
     "data": {
      "text/plain": [
       "Index(['Pregnancies', 'Glucose', 'BloodPressure', 'SkinThickness', 'Insulin',\n",
       "       'BMI', 'DiabetesPedigreeFunction', 'Age', 'Outcome', 'Glucose_rank'],\n",
       "      dtype='object')"
      ]
     },
     "execution_count": 22,
     "metadata": {},
     "output_type": "execute_result"
    }
   ],
   "source": [
    "data.columns"
   ]
  },
  {
   "cell_type": "code",
   "execution_count": 28,
   "metadata": {},
   "outputs": [
    {
     "data": {
      "image/png": "[encoded data removed]",
      "text/plain": [
       "<Figure size 432x288 with 1 Axes>"
      ]
     },
     "metadata": {
      "needs_background": "light"
     },
     "output_type": "display_data"
    }
   ],
   "source": [
    "data['Insulin_']=pd.qcut(data['Insulin'].rank(method='first').values,20,duplicates='drop').codes+1\n",
    "from numpy import mean\n",
    "ax=sns.barplot(x='Insulin_',y='Outcome',data=data,estimator=mean)"
   ]
  },
  {
   "cell_type": "code",
   "execution_count": null,
   "metadata": {},
   "outputs": [],
   "source": [
    "x=['Pregnancies','Glucose','BMI','Insulin','DiabetesPedigreeFunction','Age']"
   ]
  },
  {
   "cell_type": "code",
   "execution_count": 29,
   "metadata": {},
   "outputs": [
    {
     "data": {
      "image/png": "[encoded data removed]",
      "text/plain": [
       "<Figure size 432x288 with 1 Axes>"
      ]
     },
     "metadata": {
      "needs_background": "light"
     },
     "output_type": "display_data"
    }
   ],
   "source": [
    "data['BMI_']=pd.qcut(data['BMI'].rank(method='first').values,20,duplicates='drop').codes+1\n",
    "from numpy import mean\n",
    "ax=sns.barplot(x='BMI_',y='Outcome',data=data,estimator=mean)"
   ]
  },
  {
   "cell_type": "code",
   "execution_count": 31,
   "metadata": {},
   "outputs": [
    {
     "data": {
      "image/png": "[encoded data removed]",
      "text/plain": [
       "<Figure size 432x288 with 1 Axes>"
      ]
     },
     "metadata": {
      "needs_background": "light"
     },
     "output_type": "display_data"
    }
   ],
   "source": [
    "data['DiabetesPedigreeFunction_']=pd.qcut(data['DiabetesPedigreeFunction'].rank(method='first').values,20,duplicates='drop').codes+1\n",
    "from numpy import mean\n",
    "ax=sns.barplot(x='DiabetesPedigreeFunction_',y='Outcome',data=data,estimator=mean)\n"
   ]
  },
  {
   "cell_type": "code",
   "execution_count": 32,
   "metadata": {},
   "outputs": [
    {
     "data": {
      "image/png": "[encoded data removed]",
      "text/plain": [
       "<Figure size 432x288 with 1 Axes>"
      ]
     },
     "metadata": {
      "needs_background": "light"
     },
     "output_type": "display_data"
    }
   ],
   "source": [
    "ax=sns.lineplot(x='DiabetesPedigreeFunction_',y='Outcome',data=data,estimator=mean)"
   ]
  },
  {
   "cell_type": "code",
   "execution_count": 33,
   "metadata": {},
   "outputs": [
    {
     "data": {
      "image/png": "[encoded data removed]",
      "text/plain": [
       "<Figure size 432x288 with 1 Axes>"
      ]
     },
     "metadata": {
      "needs_background": "light"
     },
     "output_type": "display_data"
    }
   ],
   "source": [
    "data['Age_']=pd.qcut(data['Age'].rank(method='first').values,20,duplicates='drop').codes+1\n",
    "from numpy import mean\n",
    "ax=sns.barplot(x='Age_',y='Outcome',data=data,estimator=mean)"
   ]
  },
  {
   "cell_type": "code",
   "execution_count": 36,
   "metadata": {},
   "outputs": [],
   "source": [
    "x=data[['Pregnancies','Glucose','BMI','Insulin','DiabetesPedigreeFunction','Age']].values\n",
    "y=data[['Outcome']].values\n"
   ]
  },
  {
   "cell_type": "code",
   "execution_count": 45,
   "metadata": {},
   "outputs": [
    {
     "data": {
      "text/plain": [
       "(231, 1)"
      ]
     },
     "execution_count": 45,
     "metadata": {},
     "output_type": "execute_result"
    }
   ],
   "source": [
    "# Train-test split:\n",
    "X_train,X_test,Y_train,Y_test=train_test_split(x,y,test_size=0.3,random_state=0)\n",
    "Y_test.shape"
   ]
  },
  {
   "cell_type": "code",
   "execution_count": 48,
   "metadata": {},
   "outputs": [
    {
     "name": "stderr",
     "output_type": "stream",
     "text": [
      "/Users/harshithachandrareddy/opt/anaconda3/lib/python3.8/site-packages/sklearn/utils/validation.py:73: DataConversionWarning: A column-vector y was passed when a 1d array was expected. Please change the shape of y to (n_samples, ), for example using ravel().\n",
      "  return f(**kwargs)\n"
     ]
    },
    {
     "data": {
      "text/plain": [
       "LogisticRegression()"
      ]
     },
     "execution_count": 48,
     "metadata": {},
     "output_type": "execute_result"
    }
   ],
   "source": [
    "#Logistic Regression model:\n",
    "from sklearn.linear_model import LogisticRegression\n",
    "logreg=LogisticRegression()\n",
    "#fit the modelwith the data:\n",
    "logreg.fit(X_train,Y_train)"
   ]
  },
  {
   "cell_type": "code",
   "execution_count": 51,
   "metadata": {},
   "outputs": [
    {
     "name": "stdout",
     "output_type": "stream",
     "text": [
      "0.7748917748917749\n"
     ]
    }
   ],
   "source": [
    "#Predictions:\n",
    "y_pred=logreg.predict(X_test)\n",
    "print(logreg.score(X_test,Y_test))"
   ]
  },
  {
   "cell_type": "code",
   "execution_count": 54,
   "metadata": {},
   "outputs": [
    {
     "name": "stdout",
     "output_type": "stream",
     "text": [
      "0.7748917748917749\n"
     ]
    }
   ],
   "source": [
    "#accuracy\n",
    "accuracy=print(metrics.accuracy_score(Y_test,y_pred))"
   ]
  },
  {
   "cell_type": "markdown",
   "metadata": {},
   "source": [
    "# Performance matrix:"
   ]
  },
  {
   "cell_type": "code",
   "execution_count": 56,
   "metadata": {},
   "outputs": [
    {
     "name": "stdout",
     "output_type": "stream",
     "text": [
      "              precision    recall  f1-score   support\n",
      "\n",
      "           0       0.79      0.90      0.85       157\n",
      "           1       0.71      0.50      0.59        74\n",
      "\n",
      "    accuracy                           0.77       231\n",
      "   macro avg       0.75      0.70      0.72       231\n",
      "weighted avg       0.77      0.77      0.76       231\n",
      "\n"
     ]
    }
   ],
   "source": [
    "from sklearn.metrics import classification_report\n",
    "print(classification_report(Y_test,y_pred))"
   ]
  },
  {
   "cell_type": "code",
   "execution_count": 57,
   "metadata": {},
   "outputs": [
    {
     "data": {
      "text/plain": [
       "array([1, 0, 0, 1, 0, 0, 1, 1, 0, 0, 1, 1, 0, 0, 0, 0, 1, 0, 0, 0, 1, 0,\n",
       "       0, 0, 0, 0, 0, 1, 0, 0, 0, 0, 0, 0, 0, 1, 0, 0, 0, 1, 0, 0, 0, 1,\n",
       "       1, 0, 0, 0, 0, 0, 0, 0, 1, 1, 0, 0, 0, 1, 0, 0, 1, 0, 0, 1, 1, 1,\n",
       "       1, 0, 0, 0, 0, 0, 0, 1, 1, 0, 0, 1, 0, 0, 0, 0, 0, 0, 0, 0, 0, 0,\n",
       "       1, 0, 0, 0, 0, 0, 1, 0, 0, 1, 1, 0, 0, 0, 0, 0, 1, 0, 0, 0, 0, 1,\n",
       "       0, 0, 1, 0, 1, 1, 0, 1, 0, 1, 0, 0, 0, 0, 0, 0, 0, 0, 0, 0, 0, 0,\n",
       "       0, 1, 0, 0, 0, 0, 0, 0, 0, 1, 0, 0, 0, 0, 0, 0, 0, 0, 0, 1, 0, 0,\n",
       "       1, 0, 1, 0, 0, 1, 1, 1, 0, 0, 1, 0, 0, 0, 0, 0, 0, 0, 0, 0, 1, 0,\n",
       "       0, 0, 0, 0, 0, 1, 0, 1, 0, 0, 0, 0, 0, 0, 0, 0, 0, 0, 0, 1, 1, 0,\n",
       "       0, 0, 0, 0, 0, 0, 0, 0, 0, 0, 0, 0, 0, 0, 0, 0, 0, 0, 0, 0, 0, 0,\n",
       "       0, 0, 0, 1, 1, 1, 0, 0, 0, 0, 0])"
      ]
     },
     "execution_count": 57,
     "metadata": {},
     "output_type": "execute_result"
    }
   ],
   "source": [
    "y_pred=logreg.predict(X_test)\n",
    "y_pred"
   ]
  },
  {
   "cell_type": "code",
   "execution_count": 58,
   "metadata": {},
   "outputs": [
    {
     "data": {
      "text/plain": [
       "array([[0.05580126, 0.94419874],\n",
       "       [0.83683428, 0.16316572],\n",
       "       [0.90157775, 0.09842225],\n",
       "       [0.37777223, 0.62222777],\n",
       "       [0.88214337, 0.11785663],\n",
       "       [0.96061581, 0.03938419],\n",
       "       [0.27785102, 0.72214898],\n",
       "       [0.15156775, 0.84843225],\n",
       "       [0.67565104, 0.32434896],\n",
       "       [0.63052668, 0.36947332],\n",
       "       [0.43601139, 0.56398861],\n",
       "       [0.04404418, 0.95595582],\n",
       "       [0.69705805, 0.30294195],\n",
       "       [0.88050163, 0.11949837],\n",
       "       [0.88657579, 0.11342421],\n",
       "       [0.84570424, 0.15429576],\n",
       "       [0.17092494, 0.82907506],\n",
       "       [0.97573047, 0.02426953],\n",
       "       [0.55070546, 0.44929454],\n",
       "       [0.79993595, 0.20006405],\n",
       "       [0.33462978, 0.66537022],\n",
       "       [0.55114105, 0.44885895],\n",
       "       [0.90293849, 0.09706151],\n",
       "       [0.92208187, 0.07791813],\n",
       "       [0.95057795, 0.04942205],\n",
       "       [0.69837907, 0.30162093],\n",
       "       [0.94647523, 0.05352477],\n",
       "       [0.09845723, 0.90154277],\n",
       "       [0.88883023, 0.11116977],\n",
       "       [0.85498751, 0.14501249],\n",
       "       [0.55892069, 0.44107931],\n",
       "       [0.78764522, 0.21235478],\n",
       "       [0.88740402, 0.11259598],\n",
       "       [0.64221112, 0.35778888],\n",
       "       [0.91588396, 0.08411604],\n",
       "       [0.29778088, 0.70221912],\n",
       "       [0.5365495 , 0.4634505 ],\n",
       "       [0.89270036, 0.10729964],\n",
       "       [0.76324417, 0.23675583],\n",
       "       [0.29610547, 0.70389453],\n",
       "       [0.74634509, 0.25365491],\n",
       "       [0.74901305, 0.25098695],\n",
       "       [0.8647547 , 0.1352453 ],\n",
       "       [0.19378111, 0.80621889],\n",
       "       [0.2019851 , 0.7980149 ],\n",
       "       [0.99057389, 0.00942611],\n",
       "       [0.9266969 , 0.0733031 ],\n",
       "       [0.81872987, 0.18127013],\n",
       "       [0.71024484, 0.28975516],\n",
       "       [0.67771204, 0.32228796],\n",
       "       [0.60939683, 0.39060317],\n",
       "       [0.85134955, 0.14865045],\n",
       "       [0.14066639, 0.85933361],\n",
       "       [0.49927061, 0.50072939],\n",
       "       [0.85914127, 0.14085873],\n",
       "       [0.99750579, 0.00249421],\n",
       "       [0.93771181, 0.06228819],\n",
       "       [0.32986197, 0.67013803],\n",
       "       [0.720184  , 0.279816  ],\n",
       "       [0.97171346, 0.02828654],\n",
       "       [0.20766557, 0.79233443],\n",
       "       [0.50034601, 0.49965399],\n",
       "       [0.88857567, 0.11142433],\n",
       "       [0.49808989, 0.50191011],\n",
       "       [0.29975949, 0.70024051],\n",
       "       [0.10807705, 0.89192295],\n",
       "       [0.23738024, 0.76261976],\n",
       "       [0.8301395 , 0.1698605 ],\n",
       "       [0.68106831, 0.31893169],\n",
       "       [0.88217733, 0.11782267],\n",
       "       [0.87636994, 0.12363006],\n",
       "       [0.77421139, 0.22578861],\n",
       "       [0.90031608, 0.09968392],\n",
       "       [0.04426292, 0.95573708],\n",
       "       [0.14522294, 0.85477706],\n",
       "       [0.62594171, 0.37405829],\n",
       "       [0.83347971, 0.16652029],\n",
       "       [0.39930187, 0.60069813],\n",
       "       [0.91658676, 0.08341324],\n",
       "       [0.82001717, 0.17998283],\n",
       "       [0.6390068 , 0.3609932 ],\n",
       "       [0.61943326, 0.38056674],\n",
       "       [0.79870422, 0.20129578],\n",
       "       [0.97056622, 0.02943378],\n",
       "       [0.83396698, 0.16603302],\n",
       "       [0.73941008, 0.26058992],\n",
       "       [0.74501304, 0.25498696],\n",
       "       [0.7156931 , 0.2843069 ],\n",
       "       [0.116403  , 0.883597  ],\n",
       "       [0.809921  , 0.190079  ],\n",
       "       [0.83752498, 0.16247502],\n",
       "       [0.77689295, 0.22310705],\n",
       "       [0.81897401, 0.18102599],\n",
       "       [0.9545317 , 0.0454683 ],\n",
       "       [0.35189857, 0.64810143],\n",
       "       [0.85018405, 0.14981595],\n",
       "       [0.59871718, 0.40128282],\n",
       "       [0.43305826, 0.56694174],\n",
       "       [0.43824948, 0.56175052],\n",
       "       [0.73863404, 0.26136596],\n",
       "       [0.6900834 , 0.3099166 ],\n",
       "       [0.92898012, 0.07101988],\n",
       "       [0.69147715, 0.30852285],\n",
       "       [0.96441073, 0.03558927],\n",
       "       [0.43343104, 0.56656896],\n",
       "       [0.6606757 , 0.3393243 ],\n",
       "       [0.8469509 , 0.1530491 ],\n",
       "       [0.71264763, 0.28735237],\n",
       "       [0.95149542, 0.04850458],\n",
       "       [0.26650036, 0.73349964],\n",
       "       [0.9184857 , 0.0815143 ],\n",
       "       [0.67148802, 0.32851198],\n",
       "       [0.39331409, 0.60668591],\n",
       "       [0.57864224, 0.42135776],\n",
       "       [0.36203543, 0.63796457],\n",
       "       [0.32029144, 0.67970856],\n",
       "       [0.89207905, 0.10792095],\n",
       "       [0.37804196, 0.62195804],\n",
       "       [0.8710118 , 0.1289882 ],\n",
       "       [0.26370263, 0.73629737],\n",
       "       [0.63083731, 0.36916269],\n",
       "       [0.52055453, 0.47944547],\n",
       "       [0.73040768, 0.26959232],\n",
       "       [0.54265506, 0.45734494],\n",
       "       [0.78678653, 0.21321347],\n",
       "       [0.95687967, 0.04312033],\n",
       "       [0.63467538, 0.36532462],\n",
       "       [0.65478045, 0.34521955],\n",
       "       [0.57285883, 0.42714117],\n",
       "       [0.59142109, 0.40857891],\n",
       "       [0.67887316, 0.32112684],\n",
       "       [0.98330194, 0.01669806],\n",
       "       [0.94574729, 0.05425271],\n",
       "       [0.20097559, 0.79902441],\n",
       "       [0.74202003, 0.25797997],\n",
       "       [0.60244589, 0.39755411],\n",
       "       [0.89394102, 0.10605898],\n",
       "       [0.6291329 , 0.3708671 ],\n",
       "       [0.56815071, 0.43184929],\n",
       "       [0.83371936, 0.16628064],\n",
       "       [0.91959781, 0.08040219],\n",
       "       [0.47842982, 0.52157018],\n",
       "       [0.93156157, 0.06843843],\n",
       "       [0.90169611, 0.09830389],\n",
       "       [0.63596233, 0.36403767],\n",
       "       [0.92830435, 0.07169565],\n",
       "       [0.93381709, 0.06618291],\n",
       "       [0.9151724 , 0.0848276 ],\n",
       "       [0.88391822, 0.11608178],\n",
       "       [0.80624226, 0.19375774],\n",
       "       [0.93152297, 0.06847703],\n",
       "       [0.29037949, 0.70962051],\n",
       "       [0.88908761, 0.11091239],\n",
       "       [0.83833478, 0.16166522],\n",
       "       [0.24278555, 0.75721445],\n",
       "       [0.88771947, 0.11228053],\n",
       "       [0.16085765, 0.83914235],\n",
       "       [0.89426044, 0.10573956],\n",
       "       [0.67689941, 0.32310059],\n",
       "       [0.08946814, 0.91053186],\n",
       "       [0.38108388, 0.61891612],\n",
       "       [0.20727507, 0.79272493],\n",
       "       [0.98389375, 0.01610625],\n",
       "       [0.78404824, 0.21595176],\n",
       "       [0.14114636, 0.85885364],\n",
       "       [0.82868875, 0.17131125],\n",
       "       [0.81242441, 0.18757559],\n",
       "       [0.89244075, 0.10755925],\n",
       "       [0.76455203, 0.23544797],\n",
       "       [0.85500748, 0.14499252],\n",
       "       [0.9362111 , 0.0637889 ],\n",
       "       [0.81444103, 0.18555897],\n",
       "       [0.78508362, 0.21491638],\n",
       "       [0.72766199, 0.27233801],\n",
       "       [0.41901787, 0.58098213],\n",
       "       [0.88172538, 0.11827462],\n",
       "       [0.58556001, 0.41443999],\n",
       "       [0.88506614, 0.11493386],\n",
       "       [0.87431582, 0.12568418],\n",
       "       [0.93391735, 0.06608265],\n",
       "       [0.80480169, 0.19519831],\n",
       "       [0.10689993, 0.89310007],\n",
       "       [0.87320648, 0.12679352],\n",
       "       [0.07067762, 0.92932238],\n",
       "       [0.54071202, 0.45928798],\n",
       "       [0.97319847, 0.02680153],\n",
       "       [0.50213727, 0.49786273],\n",
       "       [0.73696981, 0.26303019],\n",
       "       [0.64223627, 0.35776373],\n",
       "       [0.892235  , 0.107765  ],\n",
       "       [0.77018128, 0.22981872],\n",
       "       [0.90145577, 0.09854423],\n",
       "       [0.92563863, 0.07436137],\n",
       "       [0.81505685, 0.18494315],\n",
       "       [0.89242569, 0.10757431],\n",
       "       [0.18682461, 0.81317539],\n",
       "       [0.26130448, 0.73869552],\n",
       "       [0.55025544, 0.44974456],\n",
       "       [0.94330898, 0.05669102],\n",
       "       [0.61830764, 0.38169236],\n",
       "       [0.9357452 , 0.0642548 ],\n",
       "       [0.88367057, 0.11632943],\n",
       "       [0.87253046, 0.12746954],\n",
       "       [0.51167776, 0.48832224],\n",
       "       [0.78698346, 0.21301654],\n",
       "       [0.89048934, 0.10951066],\n",
       "       [0.76132117, 0.23867883],\n",
       "       [0.81892676, 0.18107324],\n",
       "       [0.64244741, 0.35755259],\n",
       "       [0.90849872, 0.09150128],\n",
       "       [0.86933627, 0.13066373],\n",
       "       [0.93099128, 0.06900872],\n",
       "       [0.66307242, 0.33692758],\n",
       "       [0.7155675 , 0.2844325 ],\n",
       "       [0.80639918, 0.19360082],\n",
       "       [0.63875352, 0.36124648],\n",
       "       [0.66992342, 0.33007658],\n",
       "       [0.72571649, 0.27428351],\n",
       "       [0.53785601, 0.46214399],\n",
       "       [0.77456226, 0.22543774],\n",
       "       [0.86646203, 0.13353797],\n",
       "       [0.95705208, 0.04294792],\n",
       "       [0.51666124, 0.48333876],\n",
       "       [0.27913354, 0.72086646],\n",
       "       [0.37958996, 0.62041004],\n",
       "       [0.26890632, 0.73109368],\n",
       "       [0.7666652 , 0.2333348 ],\n",
       "       [0.77961304, 0.22038696],\n",
       "       [0.95472472, 0.04527528],\n",
       "       [0.80550645, 0.19449355],\n",
       "       [0.56741419, 0.43258581]])"
      ]
     },
     "execution_count": 58,
     "metadata": {},
     "output_type": "execute_result"
    }
   ],
   "source": [
    "y_predict=logreg.predict_proba(X_test)\n",
    "y_predict"
   ]
  },
  {
   "cell_type": "code",
   "execution_count": null,
   "metadata": {},
   "outputs": [],
   "source": []
  }
 ],
 "metadata": {
  "kernelspec": {
   "display_name": "Python 3",
   "language": "python",
   "name": "python3"
  },
  "language_info": {
   "codemirror_mode": {
    "name": "ipython",
    "version": 3
   },
   "file_extension": ".py",
   "mimetype": "text/x-python",
   "name": "python",
   "nbconvert_exporter": "python",
   "pygments_lexer": "ipython3",
   "version": "3.8.3"
  }
 },
 "nbformat": 4,
 "nbformat_minor": 4
}
