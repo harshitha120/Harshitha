{
 "cells": [
  {
   "cell_type": "code",
   "execution_count": 1,
   "metadata": {},
   "outputs": [
    {
     "data": {
      "text/plain": [
       "(10, 24)"
      ]
     },
     "execution_count": 1,
     "metadata": {},
     "output_type": "execute_result"
    }
   ],
   "source": [
    "#different types of arguments\n",
    "#1.positional argument-something which is related to position or order\n",
    "def add(a,b,c,d):\n",
    "    sum1=a+b+c+d\n",
    "    product=a*b*c*d\n",
    "    print(a,b,c,d)\n",
    "    return sum1,product\n",
    "\n",
    "add(1,2,3,4)\n",
    "\n"
   ]
  },
  {
   "cell_type": "code",
   "execution_count": 12,
   "metadata": {},
   "outputs": [
    {
     "name": "stdout",
     "output_type": "stream",
     "text": [
      "4 5 1 6\n"
     ]
    },
    {
     "data": {
      "text/plain": [
       "(16, 120)"
      ]
     },
     "execution_count": 12,
     "metadata": {},
     "output_type": "execute_result"
    }
   ],
   "source": [
    "def add(a,b,c,d):\n",
    "    sum1=a+b+c+d\n",
    "    product=a*b*c*d\n",
    "    print(a,b,c,d)\n",
    "    return sum1,product\n",
    "#add(3,2,1,4) \n",
    "#add(d=4,b=2,c=1,a=3)#we can write positional variables in any order\n",
    "#if we want to pass both positional arguments and key worded arguments-positional arguments  should come first and then keyworded arguments\n",
    "add(4,5,c=1,d=6)"
   ]
  },
  {
   "cell_type": "code",
   "execution_count": 18,
   "metadata": {},
   "outputs": [
    {
     "name": "stdout",
     "output_type": "stream",
     "text": [
      "10 20 0 0\n",
      "30\n",
      "10 20 30 0\n",
      "60\n",
      "10 20 30 40\n",
      "100\n",
      "10 20 0 0\n",
      "30\n",
      "10 20 30 0\n",
      "60\n",
      "10 20 30 40\n",
      "100\n"
     ]
    }
   ],
   "source": [
    "#default parameters/arguments:when the user is not sure about how many arguments he has to pass we can use default \n",
    "\n",
    "def add(a,b,c=0,d=0): #even we can set all paramets as zero\n",
    "    print(a,b,c,d)\n",
    "    sum1=a+b+c+d\n",
    "    return sum1\n",
    "print(add(10,20))\n",
    "print(add(10,20,30))\n",
    "print(add(10,20,30,40))\n",
    "\n",
    "#when we have mix of positional and default -default should follow the positional\n",
    "def add(a,b,c=0,d=0): #even we can set all parameters to zero\n",
    "    print(a,b,c,d)\n",
    "    sum1=a+b+c+d\n",
    "    return sum1\n",
    "print(add(10,20))\n",
    "print(add(10,20,c=30)) #first positional and then keyworded argument\n",
    "print(add(10,20,30,40))"
   ]
  },
  {
   "cell_type": "code",
   "execution_count": 46,
   "metadata": {},
   "outputs": [
    {
     "name": "stdout",
     "output_type": "stream",
     "text": [
      "(10, 20) <class 'tuple'>\n",
      "{'a': 1, 'b': 20, 'c': 3} <class 'dict'>\n",
      "24\n",
      "\n",
      "None\n"
     ]
    }
   ],
   "source": [
    "#variable length argument\n",
    "#*args-variable length argument --->this takes all argument as tuple\n",
    "#**kwargs-variable length keyworded argument--->this takes all argument as dictionary\n",
    "#when we dont know how many positional argument the user passes-we use *var\n",
    "#when we dont know how many key worded argument the user passesa-we use **var argument\n",
    "\n",
    "#example 1:prgram for using positional variable length argument\n",
    "def add(*var):\n",
    "    print(var,type(var))\n",
    "    total=0\n",
    "    for i in var:\n",
    "        total+=i\n",
    "    return total\n",
    "add(10,20)\n",
    "\n",
    "#example 2:program for using keyworded variable length argument\n",
    "def add(**var):\n",
    "    print(var,type(var)) #here the output will be in the form of dictionary\n",
    "    total =0\n",
    "    for i in var:\n",
    "        total=total+var[i] #here we cannot directly add i to total ,so we should add var[i]\n",
    "    print(total)\n",
    "    print()\n",
    "#print(add(a=1,b=20))\n",
    "print(add(a=1,b=20,c=3))\n"
   ]
  },
  {
   "cell_type": "code",
   "execution_count": 45,
   "metadata": {},
   "outputs": [
    {
     "name": "stdout",
     "output_type": "stream",
     "text": [
      "1 100\n",
      "2 200\n",
      "3 300\n",
      "4 400\n"
     ]
    }
   ],
   "source": [
    "a={1:100,2:200,3:300,4:400}\n",
    "for key in a:\n",
    "    print(key,a[key])\n",
    "       "
   ]
  },
  {
   "cell_type": "code",
   "execution_count": 58,
   "metadata": {},
   "outputs": [
    {
     "name": "stdout",
     "output_type": "stream",
     "text": [
      "enter the number10\n",
      "enter the number20\n",
      "<function add at 0x7ff154ff5310>\n",
      "<function add at 0x7ff154ff5310>\n",
      "30\n",
      "True\n"
     ]
    }
   ],
   "source": [
    "#Function aliasing\n",
    "#Giving name to the existing function\n",
    "def add(a,b):\n",
    "    c=a+b\n",
    "    return c\n",
    "a=int(input('enter the number'))\n",
    "b=int(input('enter the number'))\n",
    "add(a,b)\n",
    "print(add)\n",
    "sum=add #function aliasing\n",
    "print(sum)\n",
    "print(sum(a,b))\n",
    "\n",
    "\n",
    "\n",
    "#example 2:\n",
    "#to find whether the number is digit or not\n",
    "\n",
    "def digit(a):\n",
    "    if a.isdigit()== True:\n",
    "        return True\n",
    "    else:\n",
    "        return False\n",
    "dig=digit # function aliasing\n",
    "print(dig('10'))\n"
   ]
  },
  {
   "cell_type": "code",
   "execution_count": null,
   "metadata": {},
   "outputs": [
    {
     "name": "stdout",
     "output_type": "stream",
     "text": [
      "True\n",
      "enter the nameAmit\n",
      "enter the mobile8310020868\n"
     ]
    }
   ],
   "source": [
    "#example 3:function aliasing\n",
    "def emp_details():\n",
    "    emp_name=input('enter the name')\n",
    "    emp_mobile=input('enter the mobile')\n",
    "    emp_salary=input('enter the salary')\n",
    "    print(f'Employee details:employee name:{emp_name},employee mobile:{emp_mobile},employee salary:{emp_salary}')\n",
    "    \n",
    "employee=emp_details\n",
    "print(employee is emp_details)\n",
    "print(employee())\n"
   ]
  },
  {
   "cell_type": "code",
   "execution_count": null,
   "metadata": {},
   "outputs": [],
   "source": [
    "emp_mob=re.findall(r'\\d{10}',input('Enter emp mobile'))\n",
    "try:\n",
    "    if len(emp_mob[0])==10:\n",
    "        print(emp_mob[0])\n",
    "except:\n",
    "        print(\"It is not a number\")"
   ]
  },
  {
   "cell_type": "code",
   "execution_count": null,
   "metadata": {},
   "outputs": [],
   "source": []
  },
  {
   "cell_type": "code",
   "execution_count": null,
   "metadata": {},
   "outputs": [],
   "source": [
    "import re\n",
    "emp_mob=re.findall(r'\\d{10}',input('Enter emp mobile'))\n",
    "try:\n",
    "    if len(emp_mob[0])==10:\n",
    "        print(emp_mob[0])\n",
    "except:\n",
    "        print(\"It is not a number\")"
   ]
  },
  {
   "cell_type": "code",
   "execution_count": 7,
   "metadata": {},
   "outputs": [
    {
     "name": "stdout",
     "output_type": "stream",
     "text": [
      "300 400\n",
      "500\n",
      "400\n",
      "300\n"
     ]
    }
   ],
   "source": [
    "#Name space and scope:\n",
    "#we can think of name space as container\n",
    "#scope:\n",
    "#name spaces:-container-there are four types of name spaces:global,extended,local and builtin\n",
    "#scope -defines the set of rules (in which order we have look for information)\n",
    "#scope first checks for a particular thing in local container..if it is not found in loacl container it will go extended \n",
    "#if not in extended then does to global,if not in global the it goes to bulitins..if not found in bulitin it will throw an name error\n",
    "#scope->local_->extended-->global-->builtin\n",
    "\n",
    "\n",
    "#example 1:\n",
    "#example 1:\n",
    "a=100  #------------->Global container #here we are defining a and b in global\n",
    "b=200\n",
    "def my_func():\n",
    "    a=300 #------------>extended container #here using same a nad b we assigned different values..and there is no conflict between these two because of global/local/extended scope concept \n",
    "    b=400\n",
    "    print(a,b)\n",
    "    def nested_func():\n",
    "        e=500\n",
    "        print(e)   #------>local container\n",
    "        print(b)\n",
    "        print(a)\n",
    "    nested_func()\n",
    "my_func()\n",
    "\n",
    "\n",
    "    \n",
    "    \n"
   ]
  },
  {
   "cell_type": "code",
   "execution_count": 9,
   "metadata": {},
   "outputs": [
    {
     "name": "stdout",
     "output_type": "stream",
     "text": [
      "300 400\n",
      "500\n",
      "400\n",
      "300\n",
      "100\n",
      "200\n"
     ]
    }
   ],
   "source": [
    "#example 2:\n",
    "a=100  \n",
    "b=200\n",
    "def f1(): #------------->Global container #here we are defining a and b in global\n",
    "    print(a)\n",
    "    print(b)\n",
    "def my_func():\n",
    "    a=300 #------------>extended container #here using same a nad b we assigned different values..and there is no conflict between these two because of global/local/extended scope concept \n",
    "    b=400\n",
    "    print(a,b)\n",
    "    def nested_func():\n",
    "        e=500\n",
    "        print(e)   #------>local container\n",
    "        print(b)\n",
    "        print(a)\n",
    "        f1()  #here we are calling global in local scope\n",
    "    nested_func()\n",
    "my_func()\n",
    "\n"
   ]
  },
  {
   "cell_type": "code",
   "execution_count": 11,
   "metadata": {},
   "outputs": [
    {
     "name": "stdout",
     "output_type": "stream",
     "text": [
      "120\n",
      "230\n",
      "10\n",
      "20\n"
     ]
    }
   ],
   "source": [
    "a=10\n",
    "b=20\n",
    "def f1():\n",
    "    a=100\n",
    "    b=200\n",
    "    a=a+20\n",
    "    b=b+30\n",
    "    print(a) #---->this is in local scope and it make changes only in local scope\n",
    "    \n",
    "    print(b)\n",
    "f1()\n",
    "print(a) #--->it is not called in local scope and it points to the global scope\n",
    "print(b)"
   ]
  },
  {
   "cell_type": "code",
   "execution_count": null,
   "metadata": {},
   "outputs": [],
   "source": [
    "a=100  \n",
    "b=200\n",
    "def f1(): #------------->Global container #here we are defining a and b in global\n",
    "    print(a)\n",
    "    print(b)\n",
    "def my_func():\n",
    "    a=300 #------------>extended container #here using same a nad b we assigned different values..and there is no conflict between these two because of global/local/extended scope concept \n",
    "    b=400\n",
    "    print(a,b)\n",
    "    def nested_func():\n",
    "        e=500\n",
    "        print(e)   #------>local container\n",
    "        print(b)\n",
    "        print(a)\n",
    "        f1()  #here we are calling global in local scope\n",
    "nested_func() #here we cannot call nested func in gloabl scope because it throws an error\n",
    "my_func()"
   ]
  },
  {
   "cell_type": "code",
   "execution_count": 13,
   "metadata": {},
   "outputs": [
    {
     "name": "stdout",
     "output_type": "stream",
     "text": [
      "This is f1 function\n",
      "this is f2 function\n"
     ]
    },
    {
     "ename": "NameError",
     "evalue": "name 'f2' is not defined",
     "output_type": "error",
     "traceback": [
      "\u001b[0;31m---------------------------------------------------------------------------\u001b[0m",
      "\u001b[0;31mNameError\u001b[0m                                 Traceback (most recent call last)",
      "\u001b[0;32m<ipython-input-13-9bcd4822a7f9>\u001b[0m in \u001b[0;36m<module>\u001b[0;34m\u001b[0m\n\u001b[1;32m     14\u001b[0m     \u001b[0;32mdef\u001b[0m \u001b[0mf2\u001b[0m\u001b[0;34m(\u001b[0m\u001b[0;34m)\u001b[0m\u001b[0;34m:\u001b[0m\u001b[0;34m\u001b[0m\u001b[0;34m\u001b[0m\u001b[0m\n\u001b[1;32m     15\u001b[0m         \u001b[0mprint\u001b[0m\u001b[0;34m(\u001b[0m\u001b[0;34m'this is f2 function'\u001b[0m\u001b[0;34m)\u001b[0m\u001b[0;34m\u001b[0m\u001b[0;34m\u001b[0m\u001b[0m\n\u001b[0;32m---> 16\u001b[0;31m \u001b[0mf2\u001b[0m\u001b[0;34m(\u001b[0m\u001b[0;34m)\u001b[0m\u001b[0;34m\u001b[0m\u001b[0;34m\u001b[0m\u001b[0m\n\u001b[0m\u001b[1;32m     17\u001b[0m \u001b[0mf1\u001b[0m\u001b[0;34m(\u001b[0m\u001b[0;34m)\u001b[0m\u001b[0;34m\u001b[0m\u001b[0;34m\u001b[0m\u001b[0m\n",
      "\u001b[0;31mNameError\u001b[0m: name 'f2' is not defined"
     ]
    }
   ],
   "source": [
    "#example 1:This is working fine--->\n",
    "\n",
    "def f1():\n",
    "    print('This is f1 function')\n",
    "    def f2():\n",
    "        print('this is f2 function')\n",
    "    f2()\n",
    "f1()    \n",
    "\n",
    "\n",
    "#example 2:if we try to call function defined in local scope in global scope it throws an error as shown\n",
    "def f1():\n",
    "    print('This is f1 function')\n",
    "    def f2():\n",
    "        print('this is f2 function')\n",
    "f2()\n",
    "f1()    "
   ]
  },
  {
   "cell_type": "code",
   "execution_count": 24,
   "metadata": {},
   "outputs": [
    {
     "name": "stdout",
     "output_type": "stream",
     "text": [
      "This is f1 function\n",
      "<function f1.<locals>.f2 at 0x7fb5497f1550>\n",
      "This is f2 function\n",
      "This is f1 function\n",
      "This is f2 function\n",
      "None\n"
     ]
    },
    {
     "data": {
      "text/plain": [
       "[]"
      ]
     },
     "execution_count": 24,
     "metadata": {},
     "output_type": "execute_result"
    }
   ],
   "source": [
    "#if we want to call the function defined in local scope in global without throwing an error\n",
    "#we use the concept of closure\n",
    "#closure is a function which returns other function as output\n",
    "\n",
    "\n",
    "#example 1:\n",
    "def f1():\n",
    "    print(\"This is f1 function\")\n",
    "    def f2():\n",
    "        print(\"This is f2 function\")\n",
    "    return f2        #------>here we return f2 function\n",
    "a=f1() #here we assign global function to one variable\n",
    "print(a)\n",
    "a()   #nested function can be called as shown here..this a() is called as closure function\n",
    "\n",
    "        \n",
    "#example 2:\n",
    "def f1():\n",
    "    print(\"This is f1 function\")\n",
    "    def f2():\n",
    "        print(\"This is f2 function\")\n",
    "    return f2()       #------>here we are executing f2 within the local scope of the function itself\n",
    "a=f1() #here we assign global function to one variable\n",
    "print(a)\n",
    " \n",
    "    \n",
    "# Example 3:\n",
    "def is_even(num): return True if num%2==0 else False\n",
    "seq=list(range(11,21))\n",
    "out_lst=[]\n",
    "def my_func(func,seq):\n",
    "    for i in seq:\n",
    "        if (func(i)==True):\n",
    "            out_lst.append(i)\n",
    "        return out_lst\n",
    "my_func(is_even,seq) \n",
    "    \n",
    "    "
   ]
  },
  {
   "cell_type": "code",
   "execution_count": 28,
   "metadata": {},
   "outputs": [
    {
     "name": "stdout",
     "output_type": "stream",
     "text": [
      "[12, 14, 16, 18, 20]\n"
     ]
    }
   ],
   "source": [
    "def is_even(num):return True if num%2==0 else False\n",
    "\n",
    "seq=list(range(11,21))\n",
    "out_lst=[] \n",
    "def my_func(func,seq):  #this program is to show how can we pass function as argument to other function\n",
    "    for i in seq:\n",
    "        if func(i)==True:\n",
    "            out_lst.append(i)\n",
    "    return out_lst\n",
    "print(my_func(is_even,seq)) "
   ]
  },
  {
   "cell_type": "code",
   "execution_count": 35,
   "metadata": {},
   "outputs": [
    {
     "name": "stdout",
     "output_type": "stream",
     "text": [
      "16\n",
      "[11, 12, 13, 14, 15, 16, 17, 18, 19, 20]\n"
     ]
    }
   ],
   "source": [
    "#lambda function,map,filter and reduce\n",
    "#Decorators\n",
    "#lambda function-anonymous function -without a name-we need not to write return staement\n",
    "#expression which we are writing will be the output of the function\n",
    "\n",
    "#syntax:lambda. num:expr\n",
    "#to find square of the number\n",
    "#def square(num):\n",
    "  #return num**2\n",
    "    \n",
    "    \n",
    "#the above thing can be written using lambda as\n",
    "\n",
    "s=lambda num:num**2\n",
    "print(s(4))\n",
    "\n",
    "\n",
    "\n",
    "seq=list(range(11,21))\n",
    "out_lst=[] \n",
    "def my_func(seq):  #this program is to show how can we pass function as argument to other function\n",
    "    for i in seq:\n",
    "        if bool(lambda i:i%2==0)==True:\n",
    "            out_lst.append(i)\n",
    "    return out_lst\n",
    "    \n",
    "print(my_func(seq)) \n",
    "\n",
    "\n"
   ]
  },
  {
   "cell_type": "code",
   "execution_count": null,
   "metadata": {},
   "outputs": [],
   "source": []
  },
  {
   "cell_type": "code",
   "execution_count": null,
   "metadata": {},
   "outputs": [],
   "source": []
  }
 ],
 "metadata": {
  "kernelspec": {
   "display_name": "Python 3",
   "language": "python",
   "name": "python3"
  },
  "language_info": {
   "codemirror_mode": {
    "name": "ipython",
    "version": 3
   },
   "file_extension": ".py",
   "mimetype": "text/x-python",
   "name": "python",
   "nbconvert_exporter": "python",
   "pygments_lexer": "ipython3",
   "version": "3.8.3"
  }
 },
 "nbformat": 4,
 "nbformat_minor": 4
}
