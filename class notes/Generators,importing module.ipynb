{
 "cells": [
  {
   "cell_type": "code",
   "execution_count": 5,
   "metadata": {},
   "outputs": [
    {
     "name": "stdout",
     "output_type": "stream",
     "text": [
      "python\n",
      "1234\n",
      "10.2\n",
      "78\n"
     ]
    }
   ],
   "source": [
    "#generators\n",
    "def emp_info():\n",
    "    yield 'python'\n",
    "    yield 1234\n",
    "    yield 10.20\n",
    "    yield 78\n",
    "a=emp_info()\n",
    "print(next(a)) #instead of using next we can use for loop inorder to prevent stop iteration error\n",
    "print(next(a))\n",
    "for i in a:#!/usr/bin/env python\n",
    "# coding: utf-8\n",
    "\n",
    "# In[ ]:\n",
    "\n",
    "\n",
    "def emp_info():\n",
    "    yield 'python'\n",
    "    yield 1234\n",
    "    yield 10.20\n",
    "    yield 78\n",
    "a=emp_info()\n",
    "print(next(a)) #instead of using next we can use for loop inorder to prevent stop iteration error\n",
    "print(next(a))\n",
    "for i in a:\n",
    "    print(i)\n",
    "\n",
    "\n",
    "    print(i)\n",
    "    \n",
    "    "
   ]
  },
  {
   "cell_type": "code",
   "execution_count": 7,
   "metadata": {},
   "outputs": [
    {
     "name": "stdout",
     "output_type": "stream",
     "text": [
      "[0, 1, 4, 9, 16] <class 'list'>\n",
      "<generator object <genexpr> at 0x7fbed57c5ba0> <class 'generator'>\n"
     ]
    }
   ],
   "source": [
    "lst=[i*i for i in range(5)] #list comprehension generates list\n",
    "t=(i*i for i in range(5)) #but tuple comprehension is generating generator object\n",
    "print(lst,type(lst))\n",
    "print(t,type(t))"
   ]
  },
  {
   "cell_type": "code",
   "execution_count": 8,
   "metadata": {},
   "outputs": [
    {
     "name": "stdout",
     "output_type": "stream",
     "text": [
      "8697456\n",
      "112\n"
     ]
    }
   ],
   "source": [
    "import sys\n",
    "print(sys.getsizeof([i*i for i in range(1000000)]))\n",
    "print(sys.getsizeof((i*i for i in range(100000))))\n",
    "#when we need to generate a sequence for tuple comprehension we can create a sequence uwing generator and this sequence takes less space\n"
   ]
  },
  {
   "cell_type": "code",
   "execution_count": 12,
   "metadata": {},
   "outputs": [
    {
     "name": "stdout",
     "output_type": "stream",
     "text": [
      "-10\n",
      "-9\n",
      "-8\n",
      "-7\n",
      "-6\n",
      "-5\n",
      "-4\n",
      "-3\n",
      "-2\n",
      "-1\n",
      "0\n",
      "1\n",
      "2\n",
      "3\n",
      "4\n",
      "5\n",
      "6\n",
      "7\n",
      "8\n",
      "9\n",
      "10\n",
      "<generator object generator at 0x7fbed591f350>\n"
     ]
    }
   ],
   "source": [
    "def generator():\n",
    "    for i in range(-10,11):\n",
    "        yield i\n",
    "a=generator()\n",
    "for j in a:\n",
    "    print(j)\n",
    "    \n",
    "#same program can be implmentes as shown below:\n",
    "def generator():\n",
    "    num=10\n",
    "    while(num<=10):\n",
    "        yield num\n",
    "        num+=1\n",
    "b=generator()  \n",
    "for i in b:\n",
    "    print(b)"
   ]
  },
  {
   "cell_type": "code",
   "execution_count": 23,
   "metadata": {},
   "outputs": [
    {
     "name": "stdout",
     "output_type": "stream",
     "text": [
      "0\n",
      "1\n",
      "1\n",
      "2\n",
      "3\n",
      "5\n",
      "8\n",
      "13\n",
      "21\n",
      "34\n",
      "55\n",
      "89\n"
     ]
    }
   ],
   "source": [
    "def fibbonaci():\n",
    "    a,b=0,1\n",
    "    while True:\n",
    "        yield a\n",
    "        a,b=b,a+b\n",
    "        \n",
    "c=fibbonaci()\n",
    "count=0\n",
    "for i in c:\n",
    "    print(i)\n",
    "    count+=1\n",
    "    if(count>11):break\n",
    "         "
   ]
  },
  {
   "cell_type": "code",
   "execution_count": 38,
   "metadata": {},
   "outputs": [
    {
     "name": "stdout",
     "output_type": "stream",
     "text": [
      "['__builtins__', '__cached__', '__doc__', '__file__', '__loader__', '__name__', '__package__', '__spec__', 'c', 'count', 'fibbonaci', 'i']\n",
      "<generator object fibbonaci at 0x7fbed591f040>\n",
      "12\n"
     ]
    }
   ],
   "source": [
    "#MOdule\n",
    "import amuu as a\n",
    "print(dir(a))\n",
    "print(c)\n",
    "print(count)"
   ]
  },
  {
   "cell_type": "code",
   "execution_count": 57,
   "metadata": {},
   "outputs": [
    {
     "name": "stdout",
     "output_type": "stream",
     "text": [
      "__main__\n"
     ]
    }
   ],
   "source": [
    "import my_module\n",
    "print(__name__)"
   ]
  },
  {
   "cell_type": "code",
   "execution_count": null,
   "metadata": {},
   "outputs": [],
   "source": []
  },
  {
   "cell_type": "code",
   "execution_count": null,
   "metadata": {},
   "outputs": [],
   "source": []
  },
  {
   "cell_type": "code",
   "execution_count": null,
   "metadata": {},
   "outputs": [],
   "source": []
  },
  {
   "cell_type": "code",
   "execution_count": null,
   "metadata": {},
   "outputs": [],
   "source": []
  },
  {
   "cell_type": "code",
   "execution_count": null,
   "metadata": {},
   "outputs": [],
   "source": []
  }
 ],
 "metadata": {
  "kernelspec": {
   "display_name": "Python 3",
   "language": "python",
   "name": "python3"
  },
  "language_info": {
   "codemirror_mode": {
    "name": "ipython",
    "version": 3
   },
   "file_extension": ".py",
   "mimetype": "text/x-python",
   "name": "python",
   "nbconvert_exporter": "python",
   "pygments_lexer": "ipython3",
   "version": "3.8.3"
  }
 },
 "nbformat": 4,
 "nbformat_minor": 4
}
